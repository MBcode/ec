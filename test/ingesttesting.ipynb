{
  "nbformat": 4,
  "nbformat_minor": 0,
  "metadata": {
    "colab": {
      "name": "ingestTesting.ipynb",
      "provenance": [],
      "authorship_tag": "ABX9TyNIvEh93QH14WnbHFd+JLIR",
      "include_colab_link": true
    },
    "kernelspec": {
      "name": "python3",
      "display_name": "Python 3"
    },
    "language_info": {
      "name": "python"
    }
  },
  "cells": [
    {
      "cell_type": "markdown",
      "metadata": {
        "id": "view-in-github",
        "colab_type": "text"
      },
      "source": [
        "<a href=\"https://colab.research.google.com/gist/MBcode/8680047033fccd284744fd60f47b504d/ingesttesting.ipynb\" target=\"_parent\"><img src=\"https://colab.research.google.com/assets/colab-badge.svg\" alt=\"Open In Colab\"/></a>"
      ]
    },
    {
      "cell_type": "markdown",
      "source": [
        "GeoCODES ingest pipeline testing:"
      ],
      "metadata": {
        "id": "JjFLT_yESujy"
      }
    },
    {
      "cell_type": "markdown",
      "source": [
        "#Load the github.com/earthcube/earthcube_utilities \n",
        " for now the staging version"
      ],
      "metadata": {
        "id": "e0Ir7GXCSFK5"
      }
    },
    {
      "cell_type": "code",
      "execution_count": null,
      "metadata": {
        "id": "OW9a5YnT-V-0"
      },
      "outputs": [],
      "source": [
        "%load_ext rpy2.ipython\n",
        "%load_ext google.colab.data_table\n",
        "import httpimport\n",
        "with httpimport.github_repo('MBcode', 'ec'):\n",
        "  import ec"
      ]
    },
    {
      "cell_type": "markdown",
      "source": [
        "# Start by seeing how many records are expected from each repository\n",
        "To be harvested by google-datasetsearch or GeoCODES only happens if the repository has a 'sitemap.xml' listing the dataset landing pages, which have jsonld in them, that they want indexed, so the search engine can find dataset resources of interest So we start by crawling the sitemaps, (but just this time) we will only record the number of records, so we can know how many to expect from each repository, during in the next parts of the ingestion pipeline"
      ],
      "metadata": {
        "id": "ZlX0D6k4RXHh"
      }
    },
    {
      "cell_type": "code",
      "source": [
        "sitemaps=[\n",
        "\"https://www.unavco.org/data/doi/sitemap.xml\",\n",
        "\"https://ssdb.iodp.org/dataset/sitemap.xml\",\n",
        "#\"http://balto.opendap.org/opendap/site_map.txt \",\n",
        "\"http://wiki.linked.earth/sitemap.xml\",\n",
        "\"https://lipdverse.org/sitemap.xml\",\n",
        "\"http://ds.iris.edu/files/sitemap.xml\",\n",
        "\"https://data.ucar.edu/sitemap.xml\",\n",
        "\"http://opencoredata.org/sitemap.xml\",\n",
        "\"https://www2.earthref.org/MagIC/contributions.sitemap.xml\",\n",
        "#\"http://data.neotomadb.org/sitemap.xml\",\n",
        "\"https://ecl.earthchem.org/sitemap.xml\",\n",
        "\"https://xdomes.tamucc.edu/srr/sensorML/sitemap.xml\",\n",
        "\"https://geodex.org/neon_prodcodes_sm.xml\",\n",
        "#\"https://www.designsafe-ci.org/sitemap.xml \",\n",
        "\"https://object.cloud.sdsc.edu/v1/AUTH_85f46aa78936477d8e71b186269414e8/gleaner-summoned\",\n",
        "\"http://datadiscoverystudio.org/sitemap/CinergiSiteIndex.xml\",\n",
        "\"https://www.unidata.ucar.edu/sitemap.xml\",\n",
        "\"https://service-dev.rvdata.us/api/sitemap/\",\n",
        "\"https://raw.githubusercontent.com/earthcube/GeoCODES-Metadata/gh-pages/metadata/Dataset/sitemap.xml\",\n",
        "\"https://www.usap-dc.org/view/dataset/sitemap.xml\",\n",
        "\"https://cchdo.ucsd.edu/sitemap.xml\",\n",
        "\"https://amgeo-dev.colorado.edu/sitemap.xml \"]"
      ],
      "metadata": {
        "id": "RPbcOy8sI7wB"
      },
      "execution_count": null,
      "outputs": []
    },
    {
      "cell_type": "code",
      "source": [
        "ec.setup_sitemap()"
      ],
      "metadata": {
        "id": "3hSycECGKUNP"
      },
      "execution_count": null,
      "outputs": []
    },
    {
      "cell_type": "code",
      "source": [
        "sitemaps_count = ec.sitemaps_count(sitemaps)"
      ],
      "metadata": {
        "id": "qfi8zXkSoLTY"
      },
      "execution_count": null,
      "outputs": []
    },
    {
      "cell_type": "code",
      "source": [
        "sitemap_count"
      ],
      "metadata": {
        "colab": {
          "base_uri": "https://localhost:8080/"
        },
        "id": "bplXiMrFyj02",
        "outputId": "6785c9cc-e57f-4478-a755-227cffc2caa5"
      },
      "execution_count": null,
      "outputs": [
        {
          "output_type": "execute_result",
          "data": {
            "text/plain": [
              "{'http://datadiscoverystudio.org/sitemap/CinergiSiteIndex.xml': 0,\n",
              " 'http://ds.iris.edu/files/sitemap.xml': 0,\n",
              " 'http://opencoredata.org/sitemap.xml': 83388,\n",
              " 'http://wiki.linked.earth/sitemap.xml': 18634,\n",
              " 'https://cchdo.ucsd.edu/sitemap.xml': 5040,\n",
              " 'https://data.ucar.edu/sitemap.xml': 17005,\n",
              " 'https://ecl.earthchem.org/sitemap.xml': 920,\n",
              " 'https://geodex.org/neon_prodcodes_sm.xml': 0,\n",
              " 'https://lipdverse.org/sitemap.xml': 704,\n",
              " 'https://object.cloud.sdsc.edu/v1/AUTH_85f46aa78936477d8e71b186269414e8/gleaner-summoned': 0,\n",
              " 'https://raw.githubusercontent.com/earthcube/GeoCODES-Metadata/gh-pages/metadata/Dataset/sitemap.xml': 0,\n",
              " 'https://service-dev.rvdata.us/api/sitemap/': 0,\n",
              " 'https://ssdb.iodp.org/dataset/sitemap.xml': 25241,\n",
              " 'https://www.unavco.org/data/doi/sitemap.xml': 0,\n",
              " 'https://www.unidata.ucar.edu/sitemap.xml': 211,\n",
              " 'https://www.usap-dc.org/view/dataset/sitemap.xml': 0,\n",
              " 'https://www2.earthref.org/MagIC/contributions.sitemap.xml': 0,\n",
              " 'https://xdomes.tamucc.edu/srr/sensorML/sitemap.xml': 0}"
            ]
          },
          "metadata": {},
          "execution_count": 9
        }
      ]
    },
    {
      "cell_type": "markdown",
      "source": [
        "# Next see how many made it into our LinkedData-cache\n",
        "Once we capture the jsonld from each landing page, we cache that LinkedData as is, and then in another RDF format: .nt ntriples, that is easier to concatenate and to load into a triplestore"
      ],
      "metadata": {
        "id": "gWjP_Hn-ReaL"
      }
    },
    {
      "cell_type": "code",
      "source": [
        "ec.setup_s3fs()"
      ],
      "metadata": {
        "id": "t-OyECcY-o_n"
      },
      "execution_count": null,
      "outputs": []
    },
    {
      "cell_type": "code",
      "source": [
        "import s3fs"
      ],
      "metadata": {
        "id": "0cZ578YZ-1e_"
      },
      "execution_count": null,
      "outputs": []
    },
    {
      "cell_type": "code",
      "source": [
        "oss = s3fs.S3FileSystem(\n",
        "      anon=True,\n",
        "      key=\"\",\n",
        "      secret=\"\",\n",
        "      client_kwargs = {\"endpoint_url\":\"https://oss.geodex.org\"}\n",
        "   )"
      ],
      "metadata": {
        "id": "T1r-yb8R-9oO"
      },
      "execution_count": null,
      "outputs": []
    },
    {
      "cell_type": "code",
      "source": [
        "summoned =oss.ls('gleaner/summoned')\n",
        "milled =oss.ls('gleaner/milled')"
      ],
      "metadata": {
        "id": "iY6K4Qg5_ZEx"
      },
      "execution_count": null,
      "outputs": []
    },
    {
      "cell_type": "code",
      "source": [
        "for repo in summoned:\n",
        "  fa=oss.ls(repo)\n",
        "  fnum=len(fa)\n",
        "  print(f'repo:{repo} has {fnum} files')"
      ],
      "metadata": {
        "colab": {
          "base_uri": "https://localhost:8080/"
        },
        "id": "R-yTweku_kiY",
        "outputId": "709e7a75-6518-496f-a66b-80b400a24a6e"
      },
      "execution_count": null,
      "outputs": [
        {
          "output_type": "stream",
          "name": "stdout",
          "text": [
            "repo:gleaner/summoned/amgeo has 5 files\n",
            "repo:gleaner/summoned/aquadocs has 1 files\n",
            "repo:gleaner/summoned/bco-dmo has 13221 files\n",
            "repo:gleaner/summoned/bcodmo has 12484 files\n",
            "repo:gleaner/summoned/cchdo has 4235 files\n",
            "repo:gleaner/summoned/designsafe has 352 files\n",
            "repo:gleaner/summoned/earthchem has 1549 files\n",
            "repo:gleaner/summoned/edi has 14338 files\n",
            "repo:gleaner/summoned/geocodes_demo_datasets has 8 files\n",
            "repo:gleaner/summoned/getiedadataorg has 7206 files\n",
            "repo:gleaner/summoned/hydroshare has 15297 files\n",
            "repo:gleaner/summoned/ieda has 7774 files\n",
            "repo:gleaner/summoned/iedadata has 9347 files\n",
            "repo:gleaner/summoned/iris has 63 files\n",
            "repo:gleaner/summoned/linked.earth has 696 files\n",
            "repo:gleaner/summoned/lipdverse has 698 files\n",
            "repo:gleaner/summoned/magic has 10725 files\n",
            "repo:gleaner/summoned/neon has 181 files\n",
            "repo:gleaner/summoned/ocd has 104951 files\n",
            "repo:gleaner/summoned/opencoredata has 5894 files\n",
            "repo:gleaner/summoned/opentopo has 666 files\n",
            "repo:gleaner/summoned/opentopography has 702 files\n",
            "repo:gleaner/summoned/r2r has 1 files\n",
            "repo:gleaner/summoned/ssdb has 24124 files\n",
            "repo:gleaner/summoned/ssdb.iodp has 25225 files\n",
            "repo:gleaner/summoned/ucar has 1 files\n",
            "repo:gleaner/summoned/unavco has 13022 files\n",
            "repo:gleaner/summoned/usap-dc has 880 files\n",
            "repo:gleaner/summoned/wikilinkedearth has 1 files\n",
            "repo:gleaner/summoned/wwwbco-dmoorg has 11468 files\n",
            "repo:gleaner/summoned/wwwhydroshareorg has 4195 files\n"
          ]
        }
      ]
    },
    {
      "cell_type": "markdown",
      "source": [
        "# Finally see how many get into the triplestore that backs \n",
        "\n",
        "Each dataset landing page's embeded ld+json jsonld record is put into it's own graph withen the store The graph is labeled with a UniversalResourceName [URN](https://en.wikipedia.org/wiki/Uniform_Resource_Name) which is made with a template of type urn:{type}:{repo}:... So we collect all the URNs, and count how many there are for each repository If we are very lucky, the sitemap count = LD-cache count = this count, but loosing a few from errors does happen"
      ],
      "metadata": {
        "id": "GbSvdUMVRk7P"
      }
    },
    {
      "cell_type": "code",
      "source": [
        "ec.init_sparql()\n",
        "df=ec.get_graphs()"
      ],
      "metadata": {
        "id": "dI1_tbNDK1Rl"
      },
      "execution_count": null,
      "outputs": []
    },
    {
      "cell_type": "code",
      "source": [
        "df"
      ],
      "metadata": {
        "colab": {
          "base_uri": "https://localhost:8080/",
          "height": 442
        },
        "id": "JrPhgvndS0Ys",
        "outputId": "25631876-d64b-4a76-9b19-cdbbc67cdd22"
      },
      "execution_count": null,
      "outputs": [
        {
          "output_type": "stream",
          "name": "stdout",
          "text": [
            "Warning: total number of rows (290425) exceeds max_rows (20000). Falling back to pandas display.\n"
          ]
        },
        {
          "output_type": "execute_result",
          "data": {
            "text/plain": [
              "                                                        g\n",
              "0       urn:gleaner2:milled:opentopography:0047cda277b...\n",
              "1       urn:gleaner2:milled:opentopography:00845ce0c33...\n",
              "2       urn:gleaner2:milled:opentopography:008970cbb2d...\n",
              "3       urn:gleaner2:milled:opentopography:00b839b8c22...\n",
              "4       urn:gleaner2:milled:opentopography:01138abe87a...\n",
              "...                                                   ...\n",
              "290420  urn:gleaner:prov:r2r:ff91af0a990b49c6fa7cd71f1...\n",
              "290421  urn:gleaner:prov:r2r:ffc3cd385505936a2df73626c...\n",
              "290422  urn:gleaner:prov:r2r:ffc9b039d7a4c355a8cadf681...\n",
              "290423  urn:gleaner:prov:r2r:ffdacfad983e5c8d8b0be4e87...\n",
              "290424               http://www.bigdata.com/rdf#nullGraph\n",
              "\n",
              "[290425 rows x 1 columns]"
            ],
            "text/html": [
              "\n",
              "  <div id=\"df-3bca6589-dbb3-43ac-93b9-2622b67ba66b\">\n",
              "    <div class=\"colab-df-container\">\n",
              "      <div>\n",
              "<style scoped>\n",
              "    .dataframe tbody tr th:only-of-type {\n",
              "        vertical-align: middle;\n",
              "    }\n",
              "\n",
              "    .dataframe tbody tr th {\n",
              "        vertical-align: top;\n",
              "    }\n",
              "\n",
              "    .dataframe thead th {\n",
              "        text-align: right;\n",
              "    }\n",
              "</style>\n",
              "<table border=\"1\" class=\"dataframe\">\n",
              "  <thead>\n",
              "    <tr style=\"text-align: right;\">\n",
              "      <th></th>\n",
              "      <th>g</th>\n",
              "    </tr>\n",
              "  </thead>\n",
              "  <tbody>\n",
              "    <tr>\n",
              "      <th>0</th>\n",
              "      <td>urn:gleaner2:milled:opentopography:0047cda277b...</td>\n",
              "    </tr>\n",
              "    <tr>\n",
              "      <th>1</th>\n",
              "      <td>urn:gleaner2:milled:opentopography:00845ce0c33...</td>\n",
              "    </tr>\n",
              "    <tr>\n",
              "      <th>2</th>\n",
              "      <td>urn:gleaner2:milled:opentopography:008970cbb2d...</td>\n",
              "    </tr>\n",
              "    <tr>\n",
              "      <th>3</th>\n",
              "      <td>urn:gleaner2:milled:opentopography:00b839b8c22...</td>\n",
              "    </tr>\n",
              "    <tr>\n",
              "      <th>4</th>\n",
              "      <td>urn:gleaner2:milled:opentopography:01138abe87a...</td>\n",
              "    </tr>\n",
              "    <tr>\n",
              "      <th>...</th>\n",
              "      <td>...</td>\n",
              "    </tr>\n",
              "    <tr>\n",
              "      <th>290420</th>\n",
              "      <td>urn:gleaner:prov:r2r:ff91af0a990b49c6fa7cd71f1...</td>\n",
              "    </tr>\n",
              "    <tr>\n",
              "      <th>290421</th>\n",
              "      <td>urn:gleaner:prov:r2r:ffc3cd385505936a2df73626c...</td>\n",
              "    </tr>\n",
              "    <tr>\n",
              "      <th>290422</th>\n",
              "      <td>urn:gleaner:prov:r2r:ffc9b039d7a4c355a8cadf681...</td>\n",
              "    </tr>\n",
              "    <tr>\n",
              "      <th>290423</th>\n",
              "      <td>urn:gleaner:prov:r2r:ffdacfad983e5c8d8b0be4e87...</td>\n",
              "    </tr>\n",
              "    <tr>\n",
              "      <th>290424</th>\n",
              "      <td>http://www.bigdata.com/rdf#nullGraph</td>\n",
              "    </tr>\n",
              "  </tbody>\n",
              "</table>\n",
              "<p>290425 rows × 1 columns</p>\n",
              "</div>\n",
              "      <button class=\"colab-df-convert\" onclick=\"convertToInteractive('df-3bca6589-dbb3-43ac-93b9-2622b67ba66b')\"\n",
              "              title=\"Convert this dataframe to an interactive table.\"\n",
              "              style=\"display:none;\">\n",
              "        \n",
              "  <svg xmlns=\"http://www.w3.org/2000/svg\" height=\"24px\"viewBox=\"0 0 24 24\"\n",
              "       width=\"24px\">\n",
              "    <path d=\"M0 0h24v24H0V0z\" fill=\"none\"/>\n",
              "    <path d=\"M18.56 5.44l.94 2.06.94-2.06 2.06-.94-2.06-.94-.94-2.06-.94 2.06-2.06.94zm-11 1L8.5 8.5l.94-2.06 2.06-.94-2.06-.94L8.5 2.5l-.94 2.06-2.06.94zm10 10l.94 2.06.94-2.06 2.06-.94-2.06-.94-.94-2.06-.94 2.06-2.06.94z\"/><path d=\"M17.41 7.96l-1.37-1.37c-.4-.4-.92-.59-1.43-.59-.52 0-1.04.2-1.43.59L10.3 9.45l-7.72 7.72c-.78.78-.78 2.05 0 2.83L4 21.41c.39.39.9.59 1.41.59.51 0 1.02-.2 1.41-.59l7.78-7.78 2.81-2.81c.8-.78.8-2.07 0-2.86zM5.41 20L4 18.59l7.72-7.72 1.47 1.35L5.41 20z\"/>\n",
              "  </svg>\n",
              "      </button>\n",
              "      \n",
              "  <style>\n",
              "    .colab-df-container {\n",
              "      display:flex;\n",
              "      flex-wrap:wrap;\n",
              "      gap: 12px;\n",
              "    }\n",
              "\n",
              "    .colab-df-convert {\n",
              "      background-color: #E8F0FE;\n",
              "      border: none;\n",
              "      border-radius: 50%;\n",
              "      cursor: pointer;\n",
              "      display: none;\n",
              "      fill: #1967D2;\n",
              "      height: 32px;\n",
              "      padding: 0 0 0 0;\n",
              "      width: 32px;\n",
              "    }\n",
              "\n",
              "    .colab-df-convert:hover {\n",
              "      background-color: #E2EBFA;\n",
              "      box-shadow: 0px 1px 2px rgba(60, 64, 67, 0.3), 0px 1px 3px 1px rgba(60, 64, 67, 0.15);\n",
              "      fill: #174EA6;\n",
              "    }\n",
              "\n",
              "    [theme=dark] .colab-df-convert {\n",
              "      background-color: #3B4455;\n",
              "      fill: #D2E3FC;\n",
              "    }\n",
              "\n",
              "    [theme=dark] .colab-df-convert:hover {\n",
              "      background-color: #434B5C;\n",
              "      box-shadow: 0px 1px 3px 1px rgba(0, 0, 0, 0.15);\n",
              "      filter: drop-shadow(0px 1px 2px rgba(0, 0, 0, 0.3));\n",
              "      fill: #FFFFFF;\n",
              "    }\n",
              "  </style>\n",
              "\n",
              "      <script>\n",
              "        const buttonEl =\n",
              "          document.querySelector('#df-3bca6589-dbb3-43ac-93b9-2622b67ba66b button.colab-df-convert');\n",
              "        buttonEl.style.display =\n",
              "          google.colab.kernel.accessAllowed ? 'block' : 'none';\n",
              "\n",
              "        async function convertToInteractive(key) {\n",
              "          const element = document.querySelector('#df-3bca6589-dbb3-43ac-93b9-2622b67ba66b');\n",
              "          const dataTable =\n",
              "            await google.colab.kernel.invokeFunction('convertToInteractive',\n",
              "                                                     [key], {});\n",
              "          if (!dataTable) return;\n",
              "\n",
              "          const docLinkHtml = 'Like what you see? Visit the ' +\n",
              "            '<a target=\"_blank\" href=https://colab.research.google.com/notebooks/data_table.ipynb>data table notebook</a>'\n",
              "            + ' to learn more about interactive tables.';\n",
              "          element.innerHTML = '';\n",
              "          dataTable['output_type'] = 'display_data';\n",
              "          await google.colab.output.renderOutput(dataTable, element);\n",
              "          const docLink = document.createElement('div');\n",
              "          docLink.innerHTML = docLinkHtml;\n",
              "          element.appendChild(docLink);\n",
              "        }\n",
              "      </script>\n",
              "    </div>\n",
              "  </div>\n",
              "  "
            ]
          },
          "metadata": {},
          "execution_count": 6
        }
      ]
    },
    {
      "cell_type": "code",
      "source": [
        "#will do in pandas, but 1st pass was w/csv dump, like:\n",
        "df.to_csv(\"graphs.csv\")"
      ],
      "metadata": {
        "id": "1Eq8jKSuVQvO"
      },
      "execution_count": null,
      "outputs": []
    },
    {
      "cell_type": "code",
      "source": [
        "repoCounts=ec.os_system_(\"cut -d':' -f3,4 graphs.csv | grep milled | sort | uniq -c |sort -n\")\n",
        "repoCounts"
      ],
      "metadata": {
        "colab": {
          "base_uri": "https://localhost:8080/",
          "height": 91
        },
        "id": "pVHw50clTPo9",
        "outputId": "2150556c-b364-4ebe-f3d3-9038e8eaba71"
      },
      "execution_count": null,
      "outputs": [
        {
          "output_type": "execute_result",
          "data": {
            "text/plain": [
              "'      3 milled:geocodes_demo_datasets\\n      5 milled:amgeo\\n     83 milled:iris\\n    182 milled:neon\\n    697 milled:lipidverse\\n    842 milled:usap-dc\\n    892 milled:designsafe\\n   1379 milled:linked.earth\\n   1649 milled:r2r\\n   1806 milled:cchdo\\n   1823 milled:earthchem\\n   2615 milled:opentopography\\n   5646 milled:hydroshare\\n   7807 milled:edi\\n  10793 milled:iedadata\\n  12743 milled:magic\\n  12902 milled:bco-dmo\\n  13379 milled:ucar\\n'"
            ],
            "application/vnd.google.colaboratory.intrinsic+json": {
              "type": "string"
            }
          },
          "metadata": {},
          "execution_count": 21
        }
      ]
    },
    {
      "cell_type": "code",
      "source": [
        "!cut -d':' -f3,4 graphs.csv | grep milled | sort | uniq -c |sort -n "
      ],
      "metadata": {
        "colab": {
          "base_uri": "https://localhost:8080/"
        },
        "id": "8oN-IcZdR07k",
        "outputId": "7774d62a-3ea2-4131-dff1-f00f04b68915"
      },
      "execution_count": null,
      "outputs": [
        {
          "output_type": "stream",
          "name": "stdout",
          "text": [
            "      3 milled:geocodes_demo_datasets\n",
            "      5 milled:amgeo\n",
            "     83 milled:iris\n",
            "    182 milled:neon\n",
            "    697 milled:lipidverse\n",
            "    842 milled:usap-dc\n",
            "    892 milled:designsafe\n",
            "   1379 milled:linked.earth\n",
            "   1649 milled:r2r\n",
            "   1806 milled:cchdo\n",
            "   1823 milled:earthchem\n",
            "   2615 milled:opentopography\n",
            "   5646 milled:hydroshare\n",
            "   7807 milled:edi\n",
            "  10793 milled:iedadata\n",
            "  12743 milled:magic\n",
            "  12902 milled:bco-dmo\n",
            "  13379 milled:ucar\n"
          ]
        }
      ]
    },
    {
      "cell_type": "markdown",
      "source": [
        "put in org info in store, so can query to get a table of the falloff between stages"
      ],
      "metadata": {
        "id": "ws_MDUjlbkre"
      }
    }
  ]
}