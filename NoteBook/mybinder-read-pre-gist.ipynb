{
 "cells": [
  {
   "cell_type": "code",
   "execution_count": 1,
   "metadata": {},
   "outputs": [],
   "source": [
    "#Before constructing a gist, I will try creating the file and opening it in jupyterhub\n",
    "#so 1st call a rest service to construct the pre-gist, then can open it; example:\n",
    "#url  = \"https://darchive.mblwhoilibrary.org/bitstream/1912/23805/1/dataset-753388_hhq-chlorophyll__v1.tsv\" #for now\n",
    "#service/script uses https://github.com/nteract/papermill &caches a NB that can be opened(w/Binder?)then gist w/colab"
   ]
  },
  {
   "cell_type": "code",
   "execution_count": 2,
   "metadata": {
    "tags": [
     "parameters"
    ]
   },
   "outputs": [],
   "source": [
    "#url = "
   ]
  },
  {
   "cell_type": "code",
   "execution_count": 3,
   "metadata": {},
   "outputs": [],
   "source": [
    "#uncomment the next2lines the 1st time\n",
    "#%load_ext google.colab.data_table\n",
    "#!pip install pandas\n",
    "def read_file(fn, ext=None):\n",
    "    \"can be a url, will call pd read_.. for the ext type\"\n",
    "    import pandas as pd\n",
    "    import os\n",
    "    if(ext!=None):\n",
    "        ft=\".\" + ext\n",
    "    else:\n",
    "        st=os.path.splitext(fn)\n",
    "        ft=st[-1]\n",
    "    if ft=='.tsv':\n",
    "        df=pd.read_csv(fn, sep='\\t')\n",
    "    elif ft=='.csv':\n",
    "        df=pd.read_csv(fn)\n",
    "    else:\n",
    "        df=\"no reader, can !wget the file\"\n",
    "    return df"
   ]
  },
  {
   "cell_type": "code",
   "execution_count": 4,
   "metadata": {},
   "outputs": [],
   "source": [
    "df=read_file(url)"
   ]
  },
  {
   "cell_type": "code",
   "execution_count": null,
   "metadata": {},
   "outputs": [],
   "source": [
    "df"
   ]
  }
 ],
 "metadata": {
  "celltoolbar": "Tags",
  "kernelspec": {
   "display_name": "Python 3",
   "language": "python",
   "name": "python3"
  },
  "language_info": {
   "codemirror_mode": {
    "name": "ipython",
    "version": 3
   },
   "file_extension": ".py",
   "mimetype": "text/x-python",
   "name": "python",
   "nbconvert_exporter": "python",
   "pygments_lexer": "ipython3",
   "version": "3.7.4"
  }
 },
 "nbformat": 4,
 "nbformat_minor": 4
}
