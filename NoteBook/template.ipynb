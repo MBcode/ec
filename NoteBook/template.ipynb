{
 "cells": [
  {
   "cell_type": "code",
   "execution_count": 1,
   "metadata": {
    "tags": [
     "parameters"
    ]
   },
   "outputs": [],
   "source": [
    "#github.com/nteract/papermill parameters tag used to inject them into template then post a gist runable by colab\n",
    "#url = \n",
    "#ext ="
   ]
  },
  {
   "cell_type": "code",
   "execution_count": 2,
   "metadata": {},
   "outputs": [],
   "source": [
    "df=\"execute the cells to fill this in\"\n",
    "import sys\n",
    "if 'google.colab' in sys.modules:\n",
    "    %load_ext google.colab.data_table\n",
    "    !rm read_file.py\n",
    "    !wget -o log https://raw.githubusercontent.com/MBcode/ec/master/NoteBook/read_file.py\n",
    "    !grep def read_file.py\n",
    "    import read_file\n",
    "    print(\"now downloading into df\")\n",
    "    print(f'ext={ext},url={url}')\n",
    "    df=read_file.read_file(url,ext)"
   ]
  },
  {
   "cell_type": "code",
   "execution_count": 3,
   "metadata": {},
   "outputs": [],
   "source": [
    "df"
   ]
  }
 ],
 "metadata": {
  "celltoolbar": "Tags",
  "kernelspec": {
   "display_name": "Python 3",
   "language": "python",
   "name": "python3"
  },
  "language_info": {
   "codemirror_mode": {
    "name": "ipython",
    "version": 3
   },
   "file_extension": ".py",
   "mimetype": "text/x-python",
   "name": "python",
   "nbconvert_exporter": "python",
   "pygments_lexer": "ipython3",
   "version": "3.8.10"
  }
 },
 "nbformat": 4,
 "nbformat_minor": 4
}
