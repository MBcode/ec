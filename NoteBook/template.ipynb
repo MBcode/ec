{
 "cells": [
  {
   "cell_type": "code",
   "execution_count": 1,
   "metadata": {},
   "outputs": [],
   "source": [
    "#github.com/nteract/papermill injects parameters into this template then post a gist runable by colab"
   ]
  },
  {
   "cell_type": "code",
   "execution_count": 2,
   "metadata": {
    "tags": [
     "parameters"
    ]
   },
   "outputs": [],
   "source": [
    "#url = \n",
    "#ext = "
   ]
  },
  {
   "cell_type": "code",
   "execution_count": 3,
   "metadata": {},
   "outputs": [],
   "source": [
    "#!pip install pandas\n",
    "def read_file(fn, ext=None):\n",
    "    \"can be a url, will call pd read_.. for the ext type\"\n",
    "    import pandas as pd\n",
    "    import os\n",
    "    if(ext!=None):\n",
    "        ft=\".\" + ext\n",
    "    else:\n",
    "        st=os.path.splitext(fn)\n",
    "        ft=st[-1]\n",
    "    if ft=='.tsv':\n",
    "        df=pd.read_csv(fn, sep='\\t')\n",
    "    elif ft=='.csv':\n",
    "        df=pd.read_csv(fn)\n",
    "    else:\n",
    "        df=\"no reader, can !wget the file\"\n",
    "    return df"
   ]
  },
  {
   "cell_type": "code",
   "execution_count": 4,
   "metadata": {},
   "outputs": [],
   "source": [
    "df=\"execute the cells to fill this in\"\n",
    "import sys\n",
    "if 'google.colab' in sys.modules:\n",
    "  print(f'ext={ext},url={url}')\n",
    "  %load_ext google.colab.data_table\n",
    "  df=read_file(url,ext)\n",
    "  df"
   ]
  },
  {
   "cell_type": "code",
   "execution_count": 5,
   "metadata": {},
   "outputs": [],
   "source": [
    "df"
   ]
  }
 ],
 "metadata": {
  "celltoolbar": "Tags",
  "kernelspec": {
   "display_name": "Python 3",
   "language": "python",
   "name": "python3"
  },
  "language_info": {
   "codemirror_mode": {
    "name": "ipython",
    "version": 3
   },
   "file_extension": ".py",
   "mimetype": "text/x-python",
   "name": "python",
   "nbconvert_exporter": "python",
   "pygments_lexer": "ipython3",
   "version": "3.8.10"
  }
 },
 "nbformat": 4,
 "nbformat_minor": 4
}
