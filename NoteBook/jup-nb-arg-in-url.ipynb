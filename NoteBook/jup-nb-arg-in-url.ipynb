{
 "cells": [
  {
   "cell_type": "code",
   "execution_count": 1,
   "metadata": {},
   "outputs": [],
   "source": [
    "#Gets arg from it's url: \n",
    "# http://141.142.218.86:8081/notebooks/jup-nb-arg-in-url.ipynb?kernel_name=python3&dwn1=https://darchive.mblwhoilibrary.org/bitstream/1912/26532/1/dataset-752737_bergen-mesohux-2017-dissolved-nutrients__v1.tsv#"
   ]
  },
  {
   "cell_type": "code",
   "execution_count": 2,
   "metadata": {},
   "outputs": [],
   "source": [
    "from IPython.display import HTML"
   ]
  },
  {
   "cell_type": "code",
   "execution_count": 3,
   "metadata": {},
   "outputs": [
    {
     "data": {
      "text/html": [
       "<script type=\"text/javascript\">\n",
       "        IPython.notebook.kernel.execute(\"URL = '\" + window.location + \"'\")\n",
       "        </script>"
      ],
      "text/plain": [
       "<IPython.core.display.HTML object>"
      ]
     },
     "execution_count": 3,
     "metadata": {},
     "output_type": "execute_result"
    }
   ],
   "source": [
    "HTML('''<script type=\"text/javascript\">\n",
    "        IPython.notebook.kernel.execute(\"URL = '\" + window.location + \"'\")\n",
    "        </script>''')"
   ]
  },
  {
   "cell_type": "code",
   "execution_count": 4,
   "metadata": {},
   "outputs": [
    {
     "name": "stdout",
     "output_type": "stream",
     "text": [
      "http://141.142.218.86:8081/notebooks/jup-nb-arg-in-url.ipynb?kernel_name=python3&dwn1=https://darchive.mblwhoilibrary.org/bitstream/1912/23805/1/dataset-753388_hhq-chlorophyll__v1.tsv\n"
     ]
    }
   ],
   "source": [
    "print(URL)"
   ]
  },
  {
   "cell_type": "code",
   "execution_count": 5,
   "metadata": {},
   "outputs": [],
   "source": [
    "from urllib.parse import urlparse, parse_qs"
   ]
  },
  {
   "cell_type": "code",
   "execution_count": 6,
   "metadata": {},
   "outputs": [],
   "source": [
    "qd=parse_qs(urlparse(URL).query)"
   ]
  },
  {
   "cell_type": "code",
   "execution_count": 7,
   "metadata": {},
   "outputs": [],
   "source": [
    "url=qd.get('dwn1')[0]"
   ]
  },
  {
   "cell_type": "code",
   "execution_count": 8,
   "metadata": {},
   "outputs": [
    {
     "data": {
      "text/plain": [
       "'https://darchive.mblwhoilibrary.org/bitstream/1912/23805/1/dataset-753388_hhq-chlorophyll__v1.tsv'"
      ]
     },
     "execution_count": 48,
     "metadata": {},
     "output_type": "execute_result"
    }
   ],
   "source": [
    "url"
   ]
  },
  {
   "cell_type": "code",
   "execution_count": ,
   "metadata": {},
   "outputs": [],
   "source": [
    "#import pandas as pd"
   ]
  },
  {
   "cell_type": "code",
   "execution_count": ,
   "metadata": {},
   "outputs": [],
   "source": [
    "#df = pd.read_csv(url)"
   ]
  },
  {
   "cell_type": "code",
   "execution_count": 9,
   "metadata": {},
   "outputs": [
    {
     "name": "stdout",
     "output_type": "stream",
     "text": [
      "--2021-07-02 11:55:56--  https://raw.githubusercontent.com/MBcode/ec/master/NoteBook/read_file.py\n",
      "Resolving raw.githubusercontent.com (raw.githubusercontent.com)... 185.199.108.133, 185.199.109.133, 185.199.110.133, ...\n",
      "Connecting to raw.githubusercontent.com (raw.githubusercontent.com)|185.199.108.133|:443... connected.\n",
      "HTTP request sent, awaiting response... 200 OK\n",
      "Length: 328 [text/plain]\n",
      "Saving to: ‘read_file.py’\n",
      "\n",
      "read_file.py.1      100%[===================>]     328  --.-KB/s    in 0s      \n",
      "\n",
      "2021-07-02 11:55:56 (9.78 MB/s) - ‘read_file.py.1’ saved [328/328]\n",
      "\n"
     ]
    }
   ],
   "source": [
    "!wget https://raw.githubusercontent.com/MBcode/ec/master/NoteBook/read_file.py\n",
    "import read_file as rf"
   ]
  },
  {
   "cell_type": "code",
   "execution_count": 10,
   "metadata": {},
   "outputs": [],
   "source": [
    "df=rf.read_file(url)"
   ]
  },
  {
   "cell_type": "code",
   "execution_count": 11,
   "metadata": {},
   "outputs": [
    {
     "data": {
      "text/html": [
       "<div>\n",
       "<style scoped>\n",
       "    .dataframe tbody tr th:only-of-type {\n",
       "        vertical-align: middle;\n",
       "    }\n",
       "\n",
       "    .dataframe tbody tr th {\n",
       "        vertical-align: top;\n",
       "    }\n",
       "\n",
       "    .dataframe thead th {\n",
       "        text-align: right;\n",
       "    }\n",
       "</style>\n",
       "<table border=\"1\" class=\"dataframe\">\n",
       "  <thead>\n",
       "    <tr style=\"text-align: right;\">\n",
       "      <th></th>\n",
       "      <th>Date</th>\n",
       "      <th>Sample</th>\n",
       "      <th>Experiment_num</th>\n",
       "      <th>Time</th>\n",
       "      <th>Replication</th>\n",
       "      <th>Volume_Filtered_mL</th>\n",
       "      <th>Extract_Volume_mL</th>\n",
       "      <th>Dilution_Factor</th>\n",
       "      <th>F_o</th>\n",
       "      <th>F_o_blank</th>\n",
       "      <th>F_a</th>\n",
       "      <th>F_a_blank</th>\n",
       "      <th>Total_chl_with_phaeo</th>\n",
       "      <th>Total_Chl_no_phaeo</th>\n",
       "    </tr>\n",
       "  </thead>\n",
       "  <tbody>\n",
       "    <tr>\n",
       "      <th>0</th>\n",
       "      <td>May 16 2017</td>\n",
       "      <td>100% WSW</td>\n",
       "      <td>1</td>\n",
       "      <td>0</td>\n",
       "      <td>1</td>\n",
       "      <td>135</td>\n",
       "      <td>6</td>\n",
       "      <td>1</td>\n",
       "      <td>16.5</td>\n",
       "      <td>16.5</td>\n",
       "      <td>9.72</td>\n",
       "      <td>9.72</td>\n",
       "      <td>0.73</td>\n",
       "      <td>0.63</td>\n",
       "    </tr>\n",
       "    <tr>\n",
       "      <th>1</th>\n",
       "      <td>May 16 2017</td>\n",
       "      <td>100% WSW</td>\n",
       "      <td>1</td>\n",
       "      <td>0</td>\n",
       "      <td>2</td>\n",
       "      <td>140</td>\n",
       "      <td>6</td>\n",
       "      <td>1</td>\n",
       "      <td>15.9</td>\n",
       "      <td>15.9</td>\n",
       "      <td>9.63</td>\n",
       "      <td>9.63</td>\n",
       "      <td>0.68</td>\n",
       "      <td>0.56</td>\n",
       "    </tr>\n",
       "    <tr>\n",
       "      <th>2</th>\n",
       "      <td>May 16 2017</td>\n",
       "      <td>100% WSW</td>\n",
       "      <td>1</td>\n",
       "      <td>0</td>\n",
       "      <td>3</td>\n",
       "      <td>135</td>\n",
       "      <td>6</td>\n",
       "      <td>1</td>\n",
       "      <td>16.9</td>\n",
       "      <td>16.9</td>\n",
       "      <td>9.93</td>\n",
       "      <td>9.93</td>\n",
       "      <td>0.75</td>\n",
       "      <td>0.65</td>\n",
       "    </tr>\n",
       "    <tr>\n",
       "      <th>3</th>\n",
       "      <td>May 17 2017</td>\n",
       "      <td>HHQ DMSO A</td>\n",
       "      <td>1</td>\n",
       "      <td>24</td>\n",
       "      <td>1</td>\n",
       "      <td>135</td>\n",
       "      <td>6</td>\n",
       "      <td>1</td>\n",
       "      <td>22.9</td>\n",
       "      <td>22.9</td>\n",
       "      <td>12.80</td>\n",
       "      <td>12.80</td>\n",
       "      <td>1.01</td>\n",
       "      <td>0.94</td>\n",
       "    </tr>\n",
       "    <tr>\n",
       "      <th>4</th>\n",
       "      <td>May 17 2017</td>\n",
       "      <td>HHQ DMSO B</td>\n",
       "      <td>1</td>\n",
       "      <td>24</td>\n",
       "      <td>2</td>\n",
       "      <td>135</td>\n",
       "      <td>6</td>\n",
       "      <td>1</td>\n",
       "      <td>21.0</td>\n",
       "      <td>21.0</td>\n",
       "      <td>12.30</td>\n",
       "      <td>12.30</td>\n",
       "      <td>0.93</td>\n",
       "      <td>0.81</td>\n",
       "    </tr>\n",
       "    <tr>\n",
       "      <th>...</th>\n",
       "      <td>...</td>\n",
       "      <td>...</td>\n",
       "      <td>...</td>\n",
       "      <td>...</td>\n",
       "      <td>...</td>\n",
       "      <td>...</td>\n",
       "      <td>...</td>\n",
       "      <td>...</td>\n",
       "      <td>...</td>\n",
       "      <td>...</td>\n",
       "      <td>...</td>\n",
       "      <td>...</td>\n",
       "      <td>...</td>\n",
       "      <td>...</td>\n",
       "    </tr>\n",
       "    <tr>\n",
       "      <th>67</th>\n",
       "      <td>May 31 2017</td>\n",
       "      <td>HHQ DMSO B</td>\n",
       "      <td>8</td>\n",
       "      <td>24</td>\n",
       "      <td>2</td>\n",
       "      <td>135</td>\n",
       "      <td>6</td>\n",
       "      <td>1</td>\n",
       "      <td>11.4</td>\n",
       "      <td>11.4</td>\n",
       "      <td>6.49</td>\n",
       "      <td>6.49</td>\n",
       "      <td>0.50</td>\n",
       "      <td>0.46</td>\n",
       "    </tr>\n",
       "    <tr>\n",
       "      <th>68</th>\n",
       "      <td>May 31 2017</td>\n",
       "      <td>HHQ DMSO C</td>\n",
       "      <td>8</td>\n",
       "      <td>24</td>\n",
       "      <td>3</td>\n",
       "      <td>135</td>\n",
       "      <td>6</td>\n",
       "      <td>1</td>\n",
       "      <td>13.7</td>\n",
       "      <td>13.7</td>\n",
       "      <td>8.56</td>\n",
       "      <td>8.56</td>\n",
       "      <td>0.60</td>\n",
       "      <td>0.48</td>\n",
       "    </tr>\n",
       "    <tr>\n",
       "      <th>69</th>\n",
       "      <td>May 31 2017</td>\n",
       "      <td>HHQ Hi A</td>\n",
       "      <td>8</td>\n",
       "      <td>24</td>\n",
       "      <td>1</td>\n",
       "      <td>135</td>\n",
       "      <td>6</td>\n",
       "      <td>1</td>\n",
       "      <td>12.5</td>\n",
       "      <td>12.5</td>\n",
       "      <td>7.74</td>\n",
       "      <td>7.74</td>\n",
       "      <td>0.55</td>\n",
       "      <td>0.44</td>\n",
       "    </tr>\n",
       "    <tr>\n",
       "      <th>70</th>\n",
       "      <td>May 31 2017</td>\n",
       "      <td>HHQ Hi B</td>\n",
       "      <td>8</td>\n",
       "      <td>24</td>\n",
       "      <td>2</td>\n",
       "      <td>135</td>\n",
       "      <td>6</td>\n",
       "      <td>1</td>\n",
       "      <td>17.6</td>\n",
       "      <td>17.6</td>\n",
       "      <td>10.60</td>\n",
       "      <td>10.60</td>\n",
       "      <td>0.78</td>\n",
       "      <td>0.65</td>\n",
       "    </tr>\n",
       "    <tr>\n",
       "      <th>71</th>\n",
       "      <td>May 31 2017</td>\n",
       "      <td>HHQ Hi C</td>\n",
       "      <td>8</td>\n",
       "      <td>24</td>\n",
       "      <td>3</td>\n",
       "      <td>135</td>\n",
       "      <td>6</td>\n",
       "      <td>1</td>\n",
       "      <td>14.5</td>\n",
       "      <td>14.5</td>\n",
       "      <td>8.64</td>\n",
       "      <td>8.64</td>\n",
       "      <td>0.64</td>\n",
       "      <td>0.55</td>\n",
       "    </tr>\n",
       "  </tbody>\n",
       "</table>\n",
       "<p>72 rows × 14 columns</p>\n",
       "</div>"
      ],
      "text/plain": [
       "           Date      Sample  Experiment_num  Time  Replication  \\\n",
       "0   May 16 2017    100% WSW               1     0            1   \n",
       "1   May 16 2017    100% WSW               1     0            2   \n",
       "2   May 16 2017    100% WSW               1     0            3   \n",
       "3   May 17 2017  HHQ DMSO A               1    24            1   \n",
       "4   May 17 2017  HHQ DMSO B               1    24            2   \n",
       "..          ...         ...             ...   ...          ...   \n",
       "67  May 31 2017  HHQ DMSO B               8    24            2   \n",
       "68  May 31 2017  HHQ DMSO C               8    24            3   \n",
       "69  May 31 2017    HHQ Hi A               8    24            1   \n",
       "70  May 31 2017    HHQ Hi B               8    24            2   \n",
       "71  May 31 2017    HHQ Hi C               8    24            3   \n",
       "\n",
       "    Volume_Filtered_mL  Extract_Volume_mL  Dilution_Factor   F_o  F_o_blank  \\\n",
       "0                  135                  6                1  16.5       16.5   \n",
       "1                  140                  6                1  15.9       15.9   \n",
       "2                  135                  6                1  16.9       16.9   \n",
       "3                  135                  6                1  22.9       22.9   \n",
       "4                  135                  6                1  21.0       21.0   \n",
       "..                 ...                ...              ...   ...        ...   \n",
       "67                 135                  6                1  11.4       11.4   \n",
       "68                 135                  6                1  13.7       13.7   \n",
       "69                 135                  6                1  12.5       12.5   \n",
       "70                 135                  6                1  17.6       17.6   \n",
       "71                 135                  6                1  14.5       14.5   \n",
       "\n",
       "      F_a  F_a_blank  Total_chl_with_phaeo  Total_Chl_no_phaeo  \n",
       "0    9.72       9.72                  0.73                0.63  \n",
       "1    9.63       9.63                  0.68                0.56  \n",
       "2    9.93       9.93                  0.75                0.65  \n",
       "3   12.80      12.80                  1.01                0.94  \n",
       "4   12.30      12.30                  0.93                0.81  \n",
       "..    ...        ...                   ...                 ...  \n",
       "67   6.49       6.49                  0.50                0.46  \n",
       "68   8.56       8.56                  0.60                0.48  \n",
       "69   7.74       7.74                  0.55                0.44  \n",
       "70  10.60      10.60                  0.78                0.65  \n",
       "71   8.64       8.64                  0.64                0.55  \n",
       "\n",
       "[72 rows x 14 columns]"
      ]
     },
     "execution_count": 11,
     "metadata": {},
     "output_type": "execute_result"
    }
   ],
   "source": [
    "df"
   ]
  },
  {
   "cell_type": "code",
   "execution_count": null,
   "metadata": {},
   "outputs": [],
   "source": []
  }
 ],
 "metadata": {
  "kernelspec": {
   "display_name": "Python 3",
   "language": "python",
   "name": "python3"
  },
  "language_info": {
   "codemirror_mode": {
    "name": "ipython",
    "version": 3
   },
   "file_extension": ".py",
   "mimetype": "text/x-python",
   "name": "python",
   "nbconvert_exporter": "python",
   "pygments_lexer": "ipython3",
   "version": "3.8.5"
  }
 },
 "nbformat": 4,
 "nbformat_minor": 4
}
