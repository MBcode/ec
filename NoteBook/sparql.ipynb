{
 "cells": [
  {
   "cell_type": "code",
   "execution_count": 1,
   "metadata": {
    "tags": [
     "parameters"
    ]
   },
   "outputs": [],
   "source": [
      "#Set up the environment\n",
    "%load_ext rpy2.ipython\n",
    "%load_ext google.colab.data_table\n",
    "import httpimport\n",
    "with httpimport.github_repo('MBcode', 'ec'):\n",
    "  import ec\n",
    "#github.com/nteract/papermill'parameters'tag used to inject them into template then post a gist runable by colab\n",
    "url=ext=None\n",
    "#q=\"norway\"  #an example query"
   ]
  },
  {
   "cell_type": "code",
   "execution_count": 2,
   "metadata": {},
   "outputs": [],
   "source": [
      "#get Parameters\n",
      "n,d,t,Q= ec.ndtq(name,datasets,queries,tools) if ec.IN_COLAB else ec.ndtq()\n",
      "urn=d1= None if len(d)<1 else d[0]\n",
      "q= None if len(Q)<1 else Q[0]\n",
      "print(f'q={q},d1={d1}')\n",
      "#Do a text search:\n",
      "dfSPARQL=ec.txt_query(q) if q else f'get URNs from resource arrays instead, eg: {urn}'\n",
      "dfSPARQL"
   ]
  },
  {
   "cell_type": "code",
   "execution_count": 5,
   "metadata": {},
   "outputs": [],
   "source": [
      "#Get resource metadata\n",
      "#Can cut URN from the 'g'column of dSPARQL and use as the URN/s, from Row/s of interest\n",
      "#urn=None   #paste the URN from g in a quotes here\n",
      "if not urn: #if not sent in, can go from row/s of interest\n",
      "  dRows=[0,1,2]; d=dfSPARQL['g'][row] #or put the row you want to use here\n",
      "print(f'Using urn:{d}')\n",
      "dfRDFs=list(map(ec.wget_rdf, d)) #dfRDF=ec.wget_rdf(urn)\n",
      "#!ls -l   or FilePaneBrowser on left, to see it\n",
      "dfRDFs[0]"
   ]
  },
  {
   "cell_type": "code",
   "execution_count": 6,
   "metadata": {},
   "outputs": [],
   "source": [
      "#Get resource download URL from the metadata\n",
      "#Could also cut url and ext from the same Row of interest:\n",
      "#urls= ec.urn2accessURL(urn) if d1 else ec.dfRow2urls(dfSPARQL,row)  #or put in another row number to get url\n",
      "#url= urls[0] if d1 else urls[row][1] #default to 1st of the urls\n",
      "ds_urls,ds_url= getDatasetURLs(d) #if d1 else ec.getDatasetURLs(rows,dfSPARQL) \n",
      "print(f'urls={urls}')\n",
      "ds_urls"
   ]
  },
  {
   "cell_type": "code",
   "execution_count": 7,
   "metadata": {},
   "outputs": [],
   "source": [
    "#Filter URLs to download\n",
    "ext='.tsv' #you can pick\n",
    "ds_url=ec.collect_ext(urls,ext)\n",
    "#Download the resource\n",
    "#Can cut url and ext from the same Row of interest (or default to value from row):\n",
    "#df=ec.read_file(url,ext)\n",
    "DFs=list(map(lambda u: ec.read_file(u,ext), ds_url)) #you can look at separately\n",
    "ds_url"
   ]
  },
  {
   "cell_type": "code",
   "execution_count": 7,
   "metadata": {},
   "outputs": [],
   "source": [
    "#dataset page functionality includes: search_relateddatafilename\n #and tool matches: search_download search_webservice search_notebook\n",
    "!ls -la\n"
    "DFs[0]"
   ]
  },
  {
   "cell_type": "code",
   "execution_count": 7,
   "metadata": {},
   "outputs": [],
   "source": [
    "ec.viz() #shows .nt metadata from urn, can use for (rdf)xml as well "
   ]
  }
 ],
 "metadata": {
  "celltoolbar": "Tags",
  "kernelspec": {
   "display_name": "Python 3",
   "language": "python",
   "name": "python3"
  },
  "language_info": {
   "codemirror_mode": {
    "name": "ipython",
    "version": 3
   },
   "file_extension": ".py",
   "mimetype": "text/x-python",
   "name": "python",
   "nbconvert_exporter": "python",
   "pygments_lexer": "ipython3",
   "version": "3.8.10"
  }
 },
 "nbformat": 4,
 "nbformat_minor": 4
}
