{
 "cells": [
  {
   "cell_type": "code",
   "execution_count": 1,
   "metadata": {
    "tags": [
     "parameters"
    ]
   },
   "outputs": [],
   "source": [
      "#Set up the environment\n",
    "#github.com/nteract/papermill'parameters'tag used to inject them into template then post a gist runable by colab\n",
    "%load_ext rpy2.ipython\n",
    "%load_ext google.colab.data_table\n",
    "import httpimport\n",
    "with httpimport.github_repo('MBcode', 'ec'):\n",
    "  import ec\n",
    "#ec.get_ec() #work from scratch version for a bit\n",
    "#import ec\n",
    "#q=\"norway\"  #an example query"
   ]
  },
  {
   "cell_type": "code",
   "execution_count": 2,
   "metadata": {},
   "outputs": [],
   "source": [
      "#get Parameters\n",
      "n,d,t,Q= ec.ndtq(name,datasets,queries,tools) if ec.IN_COLAB else ec.ndtq()\n",
      "urn=d1= None if len(d)<1 else d[0]\n",
      "q= None if len(Q)<1 else Q[0]\n",
      "print(f'q={q},d1={d1}')\n",
      "if q:\n",
      "  dfSPARQL=ec.txt_query(q)\n",
      "else:\n",
      "  dfSPARQL=f'get URNs from resource arrays instead, eg: {urn}'\n",
      "dfSPARQL"
   ]
  },
  {
   "cell_type": "code",
   "execution_count": 5,
   "metadata": {},
   "outputs": [],
   "source": [
      "#Get resource metadata\n",
      "#Can cut URN from the g_column and use as the URN, from Row of interest:\n",
      "if not urn:\n",
      "  urn=dfSPARQL['g'][0] #or put the row you want to use here\n",
      "#urn=None   #paste the URN from g in a quotes here\n",
      "dfRDF=ec.wget_rdf(urn)\n",
      "#!ls -l   or FilePaneBrowser on left, to see it\n",
      "dfRDF"
   ]
  },
  {
   "cell_type": "code",
   "execution_count": 6,
   "metadata": {},
   "outputs": [],
   "source": [
      "#Get resource download URL from the metadata\n",
      "#Can cut url and ext from the same Row of interest:\n",
      "if d1:\n",
      "  fnt=ec.urn2fnt(urn)\n",
      "  urls=ec.grep_po('accessURL',fnt)\n",
      "  url,ext=urls[0],None\n",
      "else:\n",
      "  urls=ec.dfRow2urls(dfSPARQL,1)  #or put in another row number to get url\n",
      "  url,ext=urls[0][1],None\n",
      "print(urls)\n",
      "urls"
   ]
  },
  {
   "cell_type": "code",
   "execution_count": 7,
   "metadata": {},
   "outputs": [],
   "source": [
      "#Download the resource\n",
    "#Can cut url and ext from the same Row of interest (or default to value from row):\n",
    "df=ec.read_file(url,ext)\n",
    "df"
   ]
  },
  {
   "cell_type": "code",
   "execution_count": 7,
   "metadata": {},
   "outputs": [],
   "source": [
    "#dataset page functionality includes: search_relateddatafilename\n #and tool matches: search_download search_webservice search_notebook\n",
    "!ls -l"
   ]
  },
  {
   "cell_type": "code",
   "execution_count": 7,
   "metadata": {},
   "outputs": [],
   "source": [
    "!ls -l \n",
    "ec.viz() #shows .nt metadata from urn, can use for (rdf)xml as well "
   ]
  }
 ],
 "metadata": {
  "celltoolbar": "Tags",
  "kernelspec": {
   "display_name": "Python 3",
   "language": "python",
   "name": "python3"
  },
  "language_info": {
   "codemirror_mode": {
    "name": "ipython",
    "version": 3
   },
   "file_extension": ".py",
   "mimetype": "text/x-python",
   "name": "python",
   "nbconvert_exporter": "python",
   "pygments_lexer": "ipython3",
   "version": "3.8.10"
  }
 },
 "nbformat": 4,
 "nbformat_minor": 4
}
