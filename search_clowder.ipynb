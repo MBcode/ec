{
  "nbformat": 4,
  "nbformat_minor": 0,
  "metadata": {
    "colab": {
      "name": "search_clowder.ipynb",
      "provenance": [],
      "collapsed_sections": []
    },
    "kernelspec": {
      "name": "python3",
      "display_name": "Python 3"
    }
  },
  "cells": [
    {
      "cell_type": "markdown",
      "metadata": {
        "id": "bYK2WP9Co0qB"
      },
      "source": [
        "**General and metadata-field search, &posting metadata examples:**"
      ]
    },
    {
      "cell_type": "code",
      "metadata": {
        "id": "ZLEBHwAfo_j7"
      },
      "source": [
        "import requests\n",
        "import json\n",
        "import os\n",
        "earthcube_host=os.getenv('earthcube_host')\n",
        "my_host=os.getenv('my_host')"
      ],
      "execution_count": 2,
      "outputs": []
    },
    {
      "cell_type": "markdown",
      "metadata": {
        "id": "uufBEKIt18kD"
      },
      "source": [
        ""
      ]
    },
    {
      "cell_type": "markdown",
      "metadata": {
        "id": "wzqGRXXcPq6_"
      },
      "source": [
        "\n",
        "\n",
        "**Below is where you enter your free-text search term:**"
      ]
    },
    {
      "cell_type": "code",
      "metadata": {
        "id": "vmrg1sVOpdDH"
      },
      "source": [
        "qry_str = \"multibeam sonar\" #free txt search term.   #urlencoded in requests"
      ],
      "execution_count": 3,
      "outputs": []
    },
    {
      "cell_type": "markdown",
      "metadata": {
        "id": "IOgfuqqwaimx"
      },
      "source": [
        "I have a search [layer](my_host + \"/ext/ec/search/\") that allows for: earthcube_host + \"/search/carbon\" w/o the need for an auth-key, &allows for [do](https://github.com/MBcode/ec/blob/master/search/sc.py)ing things like below right away"
      ]
    },
    {
      "cell_type": "code",
      "metadata": {
        "id": "bqWU15iBxRCP",
        "outputId": "e168adad-683a-4524-d9ab-de8f8537f4ab",
        "colab": {
          "base_uri": "https://localhost:8080/",
          "height": 1000
        }
      },
      "source": [
        "ecr = requests.get(f\"{earthcube_host}/search/{qry_str}\")\n",
        "print(json.dumps(ecr.json(), indent=2))"
      ],
      "execution_count": 4,
      "outputs": [
        {
          "output_type": "stream",
          "text": [
            "{\n",
            "  \"count\": 11,\n",
            "  \"size\": 11,\n",
            "  \"scanned_size\": 240,\n",
            "  \"results\": [\n",
            "    {\n",
            "      \"id\": \"5f5fcf375e0e04ebc01c4050\",\n",
            "      \"name\": \" Processed Multibeam Sonar Data (version 2) near the Antarctic Peninsula acquired during Nathaniel B. Palmer expedition NBP0107 (2001)\",\n",
            "      \"description\": \"Data DOI: 10.1594/IEDA/100307 \\nThis data set was acquired with a SeaBeam Instruments model 2112 multibeam sonar system during Nathaniel B. Palmer expedition NBP0107 conducted in 2001 (Chief Scientist: Dr. Eugene Domack). These data files include Acoustic Backscatter, Swath Bathymetry data and were processed at sea using the open source MB-System multibeam sonar processing software. These data are included in the GMRT Synthesis, beginning with version 1. Data were acquired as part of the project(s): Global Climate Change and the Evolutionary Ecology of Antarctic Mollusks in the Late Eocene; Development of a Luminescence Dating Capability for Antarctic Glaciomarine Sediments: Tests of Signal Zeroing at the Antarctic Peninsula, and funding was provided by the U.S. National Science Foundation.  http://get.iedadata.org/doi/100307\",\n",
            "      \"created\": \"Mon Sep 14 15:14:47 CDT 2020\",\n",
            "      \"thumbnail\": null,\n",
            "      \"authorId\": \"5e6258a40fd3513ca4cd2a2b\",\n",
            "      \"spaces\": [\n",
            "        \"5f4eb3935e0efb9145fc3064\"\n",
            "      ],\n",
            "      \"resource_type\": \"dataset\"\n",
            "    },\n",
            "    {\n",
            "      \"id\": \"5f60ce0d5e0e04ebc01d2dae\",\n",
            "      \"name\": \"Data DOI: 10.1594/IEDA/100308\",\n",
            "      \"description\": \"This data set was acquired with a SeaBeam Instruments model 2112 multibeam sonar system during Nathaniel B. Palmer expedition NBP0201 conducted in 2002 (Chief Scientist: Dr. John Anderson). These data files include Acoustic Backscatter, Sidescan, Swath Bathymetry data and were processed at sea using the open source MB-System multibeam sonar processing software. Data were acquired as part of the project(s): Late Pleistocene to Holocene Glacial History of West Antarctica, and funding was provided by the U.S. National Science Foundation\",\n",
            "      \"created\": \"Tue Sep 15 09:22:05 CDT 2020\",\n",
            "      \"thumbnail\": null,\n",
            "      \"authorId\": \"5e6258a40fd3513ca4cd2a2b\",\n",
            "      \"spaces\": [\n",
            "        \"5f4eb3935e0efb9145fc3064\"\n",
            "      ],\n",
            "      \"resource_type\": \"dataset\"\n",
            "    },\n",
            "    {\n",
            "      \"id\": \"5f4eb5045e0efb9145fc31b0\",\n",
            "      \"name\": \" Processed Multibeam Sonar Data (version 1) near the Antarctic Peninsula acquired during Nathaniel B. Palmer expedition NBP0104 (2001)\",\n",
            "      \"description\": \"\\nThis data set was acquired with a SeaBeam Instruments model 2112 multibeam sonar system during Nathaniel B. Palmer expedition NBP0104 conducted in 2001 (Chief Scientist: Dr. Peter Wiebe). These data files include Acoustic Backscatter, Swath Bathymetry data and were processed at sea using the open source MB-System multibeam sonar processing software. These data are included in the GMRT Synthesis, beginning with version 1. Data were acquired as part of the project(s): SO GLOBEC: Water-column nutrient analysis; SO GLOBEC: Water-column phytoplankton primary productivity; SO GLOBEC: Seabird distribution and abundance; SO GLOBEC: Krill distribution, physiology, and predations; Copepod prey abundance; SO GLOBEC: Mesoscale Circulation, Tides, and Mixing; SO GLOBEC: Hydrographic modeling, both biological and physical, and funding was provided by the U.S. National Science Foundation.\",\n",
            "      \"created\": \"Tue Sep 01 15:54:28 CDT 2020\",\n",
            "      \"thumbnail\": null,\n",
            "      \"authorId\": \"5e6258a40fd3513ca4cd2a2b\",\n",
            "      \"spaces\": [\n",
            "        \"5f4eb3935e0efb9145fc3064\"\n",
            "      ],\n",
            "      \"resource_type\": \"dataset\"\n",
            "    },\n",
            "    {\n",
            "      \"id\": \"5f6a16b85e0e69663bea1552\",\n",
            "      \"name\": \"DOI:10.1594/IEDA/324740\",\n",
            "      \"description\": \"Abstract: This gridded bathymetry data set was acquired with an Atlas Elecktronik Hydrosweep DS Multibeam Sonar during R/V Thomas G. Thompson expedition TN037 conducted in 1994 (Investigators: William Sager and Adam Klaus). The data files are in NetCDF grid format. Data were acquired as part of the project: Site Survey and Geophysical Study of the Origin and Evolution of Shatsky Rise. Funding was provided by NSF award: OCE93-14229.\",\n",
            "      \"created\": \"Tue Sep 22 10:22:32 CDT 2020\",\n",
            "      \"thumbnail\": null,\n",
            "      \"authorId\": \"5e6258a40fd3513ca4cd2a2b\",\n",
            "      \"spaces\": [],\n",
            "      \"resource_type\": \"dataset\"\n",
            "    },\n",
            "    {\n",
            "      \"id\": \"5f6a18dd5e0e69663bea16c2\",\n",
            "      \"name\": \"DOI:10.1594/IEDA/324740\",\n",
            "      \"description\": \"Abstract: This gridded bathymetry data set was acquired with an Atlas Elecktronik Hydrosweep DS Multibeam Sonar during R/V Thomas G. Thompson expedition TN037 conducted in 1994 (Investigators: William Sager and Adam Klaus). The data files are in NetCDF grid format. Data were acquired as part of the project: Site Survey and Geophysical Study of the Origin and Evolution of Shatsky Rise. Funding was provided by NSF award: OCE93-14229.\",\n",
            "      \"created\": \"Tue Sep 22 10:31:41 CDT 2020\",\n",
            "      \"thumbnail\": null,\n",
            "      \"authorId\": \"5e6258a40fd3513ca4cd2a2b\",\n",
            "      \"spaces\": [],\n",
            "      \"resource_type\": \"dataset\"\n",
            "    },\n",
            "    {\n",
            "      \"id\": \"5f6a21965e0e69663bea1ef0\",\n",
            "      \"name\": \"DOI:10.1594/IEDA/324740\",\n",
            "      \"description\": \"Abstract: This gridded bathymetry data set was acquired with an Atlas Elecktronik Hydrosweep DS Multibeam Sonar during R/V Thomas G. Thompson expedition TN037 conducted in 1994 (Investigators: William Sager and Adam Klaus). The data files are in NetCDF grid format. Data were acquired as part of the project: Site Survey and Geophysical Study of the Origin and Evolution of Shatsky Rise. Funding was provided by NSF award: OCE93-14229.\",\n",
            "      \"created\": \"Tue Sep 22 11:08:54 CDT 2020\",\n",
            "      \"thumbnail\": null,\n",
            "      \"authorId\": \"5e6258a40fd3513ca4cd2a2b\",\n",
            "      \"spaces\": [],\n",
            "      \"resource_type\": \"dataset\"\n",
            "    },\n",
            "    {\n",
            "      \"id\": \"5f6a1a505e0e69663bea188b\",\n",
            "      \"name\": \"DOI:10.1594/IEDA/324740\",\n",
            "      \"description\": \"Abstract: This gridded bathymetry data set was acquired with an Atlas Elecktronik Hydrosweep DS Multibeam Sonar during R/V Thomas G. Thompson expedition TN037 conducted in 1994 (Investigators: William Sager and Adam Klaus). The data files are in NetCDF grid format. Data were acquired as part of the project: Site Survey and Geophysical Study of the Origin and Evolution of Shatsky Rise. Funding was provided by NSF award: OCE93-14229.\",\n",
            "      \"created\": \"Tue Sep 22 10:37:52 CDT 2020\",\n",
            "      \"thumbnail\": null,\n",
            "      \"authorId\": \"5e6258a40fd3513ca4cd2a2b\",\n",
            "      \"spaces\": [],\n",
            "      \"resource_type\": \"dataset\"\n",
            "    },\n",
            "    {\n",
            "      \"id\": \"5f6a22475e0e69663bea1f3c\",\n",
            "      \"name\": \"DOI:10.1594/IEDA/324740\",\n",
            "      \"description\": \"Abstract: This gridded bathymetry data set was acquired with an Atlas Elecktronik Hydrosweep DS Multibeam Sonar during R/V Thomas G. Thompson expedition TN037 conducted in 1994 (Investigators: William Sager and Adam Klaus). The data files are in NetCDF grid format. Data were acquired as part of the project: Site Survey and Geophysical Study of the Origin and Evolution of Shatsky Rise. Funding was provided by NSF award: OCE93-14229.\",\n",
            "      \"created\": \"Tue Sep 22 11:11:51 CDT 2020\",\n",
            "      \"thumbnail\": null,\n",
            "      \"authorId\": \"5e6258a40fd3513ca4cd2a2b\",\n",
            "      \"spaces\": [],\n",
            "      \"resource_type\": \"dataset\"\n",
            "    },\n",
            "    {\n",
            "      \"id\": \"5f6a22ae5e0e69663bea1fff\",\n",
            "      \"name\": \"DOI:10.1594/IEDA/324740\",\n",
            "      \"description\": \"Abstract: This gridded bathymetry data set was acquired with an Atlas Elecktronik Hydrosweep DS Multibeam Sonar during R/V Thomas G. Thompson expedition TN037 conducted in 1994 (Investigators: William Sager and Adam Klaus). The data files are in NetCDF grid format. Data were acquired as part of the project: Site Survey and Geophysical Study of the Origin and Evolution of Shatsky Rise. Funding was provided by NSF award: OCE93-14229.\",\n",
            "      \"created\": \"Tue Sep 22 11:13:34 CDT 2020\",\n",
            "      \"thumbnail\": null,\n",
            "      \"authorId\": \"5e6258a40fd3513ca4cd2a2b\",\n",
            "      \"spaces\": [],\n",
            "      \"resource_type\": \"dataset\"\n",
            "    },\n",
            "    {\n",
            "      \"id\": \"5f6a21465e0e69663bea1ed5\",\n",
            "      \"name\": \"DOI:10.1594/IEDA/324740\",\n",
            "      \"description\": \"Abstract: This gridded bathymetry data set was acquired with an Atlas Elecktronik Hydrosweep DS Multibeam Sonar during R/V Thomas G. Thompson expedition TN037 conducted in 1994 (Investigators: William Sager and Adam Klaus). The data files are in NetCDF grid format. Data were acquired as part of the project: Site Survey and Geophysical Study of the Origin and Evolution of Shatsky Rise. Funding was provided by NSF award: OCE93-14229.\",\n",
            "      \"created\": \"Tue Sep 22 11:07:34 CDT 2020\",\n",
            "      \"thumbnail\": null,\n",
            "      \"authorId\": \"5e6258a40fd3513ca4cd2a2b\",\n",
            "      \"spaces\": [],\n",
            "      \"resource_type\": \"dataset\"\n",
            "    },\n",
            "    {\n",
            "      \"id\": \"5f6a18295e0e69663bea1674\",\n",
            "      \"name\": \"DOI:10.1594/IEDA/324740\",\n",
            "      \"description\": \"Abstract: This gridded bathymetry data set was acquired with an Atlas Elecktronik Hydrosweep DS Multibeam Sonar during R/V Thomas G. Thompson expedition TN037 conducted in 1994 (Investigators: William Sager and Adam Klaus). The data files are in NetCDF grid format. Data were acquired as part of the project: Site Survey and Geophysical Study of the Origin and Evolution of Shatsky Rise. Funding was provided by NSF award: OCE93-14229.\",\n",
            "      \"created\": \"Tue Sep 22 10:28:41 CDT 2020\",\n",
            "      \"thumbnail\": null,\n",
            "      \"authorId\": \"5e6258a40fd3513ca4cd2a2b\",\n",
            "      \"spaces\": [],\n",
            "      \"resource_type\": \"dataset\"\n",
            "    }\n",
            "  ],\n",
            "  \"from\": 0,\n",
            "  \"total_size\": 11\n",
            "}\n"
          ],
          "name": "stdout"
        }
      ]
    },
    {
      "cell_type": "markdown",
      "metadata": {
        "id": "vF25nI2Sx-A_"
      },
      "source": [
        "=Everything below this can be put in above layer, including metadata search via the elasticsearch [syntax-guide](https://github.com/clowder-framework/clowder/blob/develop/app/views/searchResults.scala.html#L35)."
      ]
    },
    {
      "cell_type": "markdown",
      "metadata": {
        "id": "0RPJbWR7wTj_"
      },
      "source": [
        "Next I will copy over the discovery work from the other [NoteBook](https://colab.research.google.com/drive/14_bTSVMwLk-XbmIeIgAFnswv250oRGOK#scrollTo=-Ar91tVRTuMu) &can easily make into another search-api option [here](https://github.com/MBcode/ec/blob/master/search/ss.py)"
      ]
    },
    {
      "cell_type": "code",
      "metadata": {
        "id": "zV6SLraFwtNK"
      },
      "source": [
        "#This code runs off the triplestore search results, \n",
        "#but can run off this backend as well w/some small mods\n",
        "#---\n",
        "#for result in r.json()[\"results\"]:\n",
        "# snippit=result['id']+\" \"+result['description']\n",
        "# url=result['url']. #set this key but might get elsewhere\n",
        "#now for output to be clustered by 'brew carrot2' service\n",
        "\n",
        "cout = \"\"\"<?xml version=\"1.0\" encoding=\"UTF-8\"?>\n",
        "<searchresult>\n",
        "  <query>\"\"\"\n",
        "print(cout,qry_str,\"</query>\")\n",
        "i=0\n",
        "for result in results[\"results\"][\"bindings\"]:\n",
        "    print(\"<document id=\\\"\",i,\"\\\">\")\n",
        "    print(\"<url>\",result[\"s\"][\"value\"],\"</url>\")\n",
        "    print(\"<snippet>\",result[\"o\"][\"value\"],\"</snippet></document>\")\n",
        "    i=i+1\n",
        "print(\"</searchresult>\")"
      ],
      "execution_count": null,
      "outputs": []
    },
    {
      "cell_type": "markdown",
      "metadata": {
        "id": "QsyvmaJrxZyy"
      },
      "source": [
        "Output of running carrot2(dcs)service,on xml output: my_host + \"/ext/ec/carbon2.json\"\n",
        "\n",
        "Want [search.carrot2.org/#/search/web/carbon/treemap](https://search.carrot2.org/#/search/web/site%3Ahttps%3A%2F%2Fwww.hydroshare.org%20carbon/treemap) viz after sending xml above to clustering service."
      ]
    },
    {
      "cell_type": "markdown",
      "metadata": {
        "id": "cl2pQn_ndvh_"
      },
      "source": [
        "Now that there is some redirection [code](https://github.com/MBcode/ec/tree/master/search) you will be able to get it directly"
      ]
    },
    {
      "cell_type": "code",
      "metadata": {
        "id": "2Cm_2_Xhd_61"
      },
      "source": [
        "#ecr = requests.get(f\"{earthcube_host}/search3/{qry_str}\")\n"
      ],
      "execution_count": null,
      "outputs": []
    },
    {
      "cell_type": "code",
      "metadata": {
        "id": "lgDY7OnYpSKe"
      },
      "source": [
        "#clowder_host = \"https://clowder.ncsa.illinois.edu/clowder\"\n",
        "clowder_host = \"https://earthcube.clowderframework.org\""
      ],
      "execution_count": null,
      "outputs": []
    },
    {
      "cell_type": "code",
      "metadata": {
        "id": "_VXAavpmpXSA"
      },
      "source": [
        "import os\n",
        "clowder_key = os.getenv('testkey') #get this to work before sharing, well will be a diff key for others\n",
        "clowder_key = \"xxx\" #since we will get an 'open' instance will we still need?"
      ],
      "execution_count": null,
      "outputs": []
    },
    {
      "cell_type": "code",
      "metadata": {
        "id": "UkJoMnWVryxC"
      },
      "source": [
        "clowder_key = os.getenv('eckey') #I can use locally w/new instance till it is fixed\n",
        "#r = requests.get(f\"{clowder_host}/api/search?query={qry_str}\") #looks like still need a login, Need clowder fix4this"
      ],
      "execution_count": null,
      "outputs": []
    },
    {
      "cell_type": "code",
      "metadata": {
        "id": "NxmP574OsCJy"
      },
      "source": [
        "#print(json.dumps(r.json(), indent=2))"
      ],
      "execution_count": null,
      "outputs": []
    },
    {
      "cell_type": "code",
      "metadata": {
        "id": "rlU0W0_1piN-"
      },
      "source": [
        "#r = requests.get(f\"{clowder_host}/api/search?query={qry_str}&key={clowder_key}\") \n",
        "r = requests.get(f\"{clowder_host}/api/search?query={qry_str}\", headers={'X-API-Key': clowder_key})"
      ],
      "execution_count": null,
      "outputs": []
    },
    {
      "cell_type": "markdown",
      "metadata": {
        "id": "7Ino7XyL39PX"
      },
      "source": [
        "This free-text search call is not that dissimilar from the present geodex api."
      ]
    },
    {
      "cell_type": "code",
      "metadata": {
        "id": "UEvkjY0Upnot",
        "outputId": "ccc0d281-0cbc-4d3c-e71c-f8815d94b374",
        "colab": {
          "base_uri": "https://localhost:8080/",
          "height": 802
        }
      },
      "source": [
        "print(json.dumps(r.json(), indent=2))"
      ],
      "execution_count": null,
      "outputs": [
        {
          "output_type": "stream",
          "text": [
            "{\n",
            "  \"count\": 3,\n",
            "  \"size\": 3,\n",
            "  \"scanned_size\": 240,\n",
            "  \"results\": [\n",
            "    {\n",
            "      \"id\": \"5f5fcf375e0e04ebc01c4050\",\n",
            "      \"name\": \" Processed Multibeam Sonar Data (version 2) near the Antarctic Peninsula acquired during Nathaniel B. Palmer expedition NBP0107 (2001)\",\n",
            "      \"description\": \"Data DOI: 10.1594/IEDA/100307 \\nThis data set was acquired with a SeaBeam Instruments model 2112 multibeam sonar system during Nathaniel B. Palmer expedition NBP0107 conducted in 2001 (Chief Scientist: Dr. Eugene Domack). These data files include Acoustic Backscatter, Swath Bathymetry data and were processed at sea using the open source MB-System multibeam sonar processing software. These data are included in the GMRT Synthesis, beginning with version 1. Data were acquired as part of the project(s): Global Climate Change and the Evolutionary Ecology of Antarctic Mollusks in the Late Eocene; Development of a Luminescence Dating Capability for Antarctic Glaciomarine Sediments: Tests of Signal Zeroing at the Antarctic Peninsula, and funding was provided by the U.S. National Science Foundation.  http://get.iedadata.org/doi/100307\",\n",
            "      \"created\": \"Mon Sep 14 15:14:47 CDT 2020\",\n",
            "      \"thumbnail\": null,\n",
            "      \"authorId\": \"5e6258a40fd3513ca4cd2a2b\",\n",
            "      \"spaces\": [\n",
            "        \"5f4eb3935e0efb9145fc3064\"\n",
            "      ],\n",
            "      \"resource_type\": \"dataset\"\n",
            "    },\n",
            "    {\n",
            "      \"id\": \"5f60ce0d5e0e04ebc01d2dae\",\n",
            "      \"name\": \"Data DOI: 10.1594/IEDA/100308\",\n",
            "      \"description\": \"This data set was acquired with a SeaBeam Instruments model 2112 multibeam sonar system during Nathaniel B. Palmer expedition NBP0201 conducted in 2002 (Chief Scientist: Dr. John Anderson). These data files include Acoustic Backscatter, Sidescan, Swath Bathymetry data and were processed at sea using the open source MB-System multibeam sonar processing software. Data were acquired as part of the project(s): Late Pleistocene to Holocene Glacial History of West Antarctica, and funding was provided by the U.S. National Science Foundation\",\n",
            "      \"created\": \"Tue Sep 15 09:22:05 CDT 2020\",\n",
            "      \"thumbnail\": null,\n",
            "      \"authorId\": \"5e6258a40fd3513ca4cd2a2b\",\n",
            "      \"spaces\": [\n",
            "        \"5f4eb3935e0efb9145fc3064\"\n",
            "      ],\n",
            "      \"resource_type\": \"dataset\"\n",
            "    },\n",
            "    {\n",
            "      \"id\": \"5f4eb5045e0efb9145fc31b0\",\n",
            "      \"name\": \" Processed Multibeam Sonar Data (version 1) near the Antarctic Peninsula acquired during Nathaniel B. Palmer expedition NBP0104 (2001)\",\n",
            "      \"description\": \"\\nThis data set was acquired with a SeaBeam Instruments model 2112 multibeam sonar system during Nathaniel B. Palmer expedition NBP0104 conducted in 2001 (Chief Scientist: Dr. Peter Wiebe). These data files include Acoustic Backscatter, Swath Bathymetry data and were processed at sea using the open source MB-System multibeam sonar processing software. These data are included in the GMRT Synthesis, beginning with version 1. Data were acquired as part of the project(s): SO GLOBEC: Water-column nutrient analysis; SO GLOBEC: Water-column phytoplankton primary productivity; SO GLOBEC: Seabird distribution and abundance; SO GLOBEC: Krill distribution, physiology, and predations; Copepod prey abundance; SO GLOBEC: Mesoscale Circulation, Tides, and Mixing; SO GLOBEC: Hydrographic modeling, both biological and physical, and funding was provided by the U.S. National Science Foundation.\",\n",
            "      \"created\": \"Tue Sep 01 15:54:28 CDT 2020\",\n",
            "      \"thumbnail\": null,\n",
            "      \"authorId\": \"5e6258a40fd3513ca4cd2a2b\",\n",
            "      \"spaces\": [\n",
            "        \"5f4eb3935e0efb9145fc3064\"\n",
            "      ],\n",
            "      \"resource_type\": \"dataset\"\n",
            "    }\n",
            "  ],\n",
            "  \"from\": 0,\n",
            "  \"total_size\": 3\n",
            "}\n"
          ],
          "name": "stdout"
        }
      ]
    },
    {
      "cell_type": "markdown",
      "metadata": {
        "id": "U4dLa4UUzi1u"
      },
      "source": [
        "The search results from API need the *detials* [added](https://github.com/MBcode/ec/blob/master/search/sc.py) to them:"
      ]
    },
    {
      "cell_type": "code",
      "metadata": {
        "id": "fWtVCd8tgZr_"
      },
      "source": [
        "#getLD the 'details' for each search result, and put link back in search results\n",
        "#for result in r.json()[\"results\"]:\n",
        "#  dataset=result['id']\n",
        "#  print(dataset)\n",
        "#  LD=getLD(dataset) #mv fnc up or eval 1st\n",
        "# #could turn into jsonl-ld playground viz tab url here\n",
        "#  result['details']=LD"
      ],
      "execution_count": null,
      "outputs": []
    },
    {
      "cell_type": "markdown",
      "metadata": {
        "id": "HiqsQG9Kx3U6"
      },
      "source": [
        "Here is a [picture](http://isda.ncsa.illinois.edu/~mbobak/png/cms.png) of the ***(metadata) search interface*** after you log in.  It shows searching over the different *metadata facets*; *Which can be had via the key-value search below*: "
      ]
    },
    {
      "cell_type": "markdown",
      "metadata": {
        "id": "Wp3-NQ4CokAf"
      },
      "source": [
        "**Can also give key-value pairs to search**,  &post the LD as well."
      ]
    },
    {
      "cell_type": "code",
      "metadata": {
        "id": "QC3N5Q_ePYCe",
        "outputId": "5ec618f5-1019-4707-cdec-98f46d08b1a6",
        "colab": {
          "base_uri": "https://localhost:8080/",
          "height": 394
        }
      },
      "source": [
        "metadata_qry = \"\\\"Audience\\\":\\\"geoscience\\\"\"\n",
        "r2 = requests.get(f\"{clowder_host}/api/search?query={metadata_qry}\", headers={'X-API-Key': clowder_key})\n",
        "print(json.dumps(r2.json(), indent=2))"
      ],
      "execution_count": null,
      "outputs": [
        {
          "output_type": "stream",
          "text": [
            "{\n",
            "  \"count\": 1,\n",
            "  \"size\": 1,\n",
            "  \"scanned_size\": 240,\n",
            "  \"results\": [\n",
            "    {\n",
            "      \"id\": \"5f4eb5045e0efb9145fc31b0\",\n",
            "      \"name\": \" Processed Multibeam Sonar Data (version 1) near the Antarctic Peninsula acquired during Nathaniel B. Palmer expedition NBP0104 (2001)\",\n",
            "      \"description\": \"\\nThis data set was acquired with a SeaBeam Instruments model 2112 multibeam sonar system during Nathaniel B. Palmer expedition NBP0104 conducted in 2001 (Chief Scientist: Dr. Peter Wiebe). These data files include Acoustic Backscatter, Swath Bathymetry data and were processed at sea using the open source MB-System multibeam sonar processing software. These data are included in the GMRT Synthesis, beginning with version 1. Data were acquired as part of the project(s): SO GLOBEC: Water-column nutrient analysis; SO GLOBEC: Water-column phytoplankton primary productivity; SO GLOBEC: Seabird distribution and abundance; SO GLOBEC: Krill distribution, physiology, and predations; Copepod prey abundance; SO GLOBEC: Mesoscale Circulation, Tides, and Mixing; SO GLOBEC: Hydrographic modeling, both biological and physical, and funding was provided by the U.S. National Science Foundation.\",\n",
            "      \"created\": \"Tue Sep 01 15:54:28 CDT 2020\",\n",
            "      \"thumbnail\": null,\n",
            "      \"authorId\": \"5e6258a40fd3513ca4cd2a2b\",\n",
            "      \"spaces\": [\n",
            "        \"5f4eb3935e0efb9145fc3064\"\n",
            "      ],\n",
            "      \"resource_type\": \"dataset\"\n",
            "    }\n",
            "  ],\n",
            "  \"from\": 0,\n",
            "  \"total_size\": 1\n",
            "}\n"
          ],
          "name": "stdout"
        }
      ]
    },
    {
      "cell_type": "markdown",
      "metadata": {
        "id": "wkR8Npb0bsF0"
      },
      "source": [
        "**Able to POST jsonLD, so will be ready for when we get *open* radiant instance this week**:"
      ]
    },
    {
      "cell_type": "code",
      "metadata": {
        "id": "M_CX4_XsVdhF",
        "outputId": "dc962c11-fbe0-49ab-9a78-593af9623407",
        "colab": {
          "resources": {
            "http://localhost:8080/nbextensions/google.colab/files.js": {
              "data": "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",
              "ok": true,
              "headers": [
                [
                  "content-type",
                  "application/javascript"
                ]
              ],
              "status": 200,
              "status_text": ""
            }
          },
          "base_uri": "https://localhost:8080/",
          "height": 55
        }
      },
      "source": [
        "from google.colab import files\n",
        "uploaded = files.upload() #condidering using, so you could try this w/any local jsonLD file"
      ],
      "execution_count": null,
      "outputs": [
        {
          "output_type": "display_data",
          "data": {
            "text/html": [
              "\n",
              "     <input type=\"file\" id=\"files-ff44ca41-5791-4cb1-8ed2-a61ad629370d\" name=\"files[]\" multiple disabled\n",
              "        style=\"border:none\" />\n",
              "     <output id=\"result-ff44ca41-5791-4cb1-8ed2-a61ad629370d\">\n",
              "      Upload widget is only available when the cell has been executed in the\n",
              "      current browser session. Please rerun this cell to enable.\n",
              "      </output>\n",
              "      <script src=\"/nbextensions/google.colab/files.js\"></script> "
            ],
            "text/plain": [
              "<IPython.core.display.HTML object>"
            ]
          },
          "metadata": {
            "tags": []
          }
        }
      ]
    },
    {
      "cell_type": "code",
      "metadata": {
        "id": "kNsK1zXOiGU-"
      },
      "source": [
        "#make sure the input fn's have been milled w/something like:\n",
        "# alias dcat2i \"sed -i '/http:..www.w3.org.ns.dcat#/s//dcat:/g'\"\n",
        "\n",
        "#This does everything below in one go\n",
        "# except getLD(datasetID) which you might also use from search results\n",
        "def jsonLD2dataset(fn):\n",
        "  \"get name&desc(=title&abstract)make clowder dataset &assert associated jsonLD\"\n",
        "  with open(fn) as f:\n",
        "    jsLD=f.read()\n",
        "  d=json.loads(jsLD)  #will have2do the sed like fixes, &get that in the 2nd post,2fix exceptions\n",
        "  #metadata2={'name': d['name'], 'description': d['description']} #url next\n",
        "  #metadata3={'name': d['name'], 'description': d['description'], 'url': d['identifier'][0]['url']}\n",
        "  clowder_space = \"5f6d2340e4b010d24f82045b\"\n",
        "  metadata3={'name': d['name'], 'description': d['description'], 'url': d['identifier'][0]['url'],'space': [clowder_space], 'access': 'PUBLIC'}\n",
        "  print(metadata3)\n",
        "  headers3={'X-API-Key': clowder_key,'accept': '*/*', 'Content-Type': 'application/json'}\n",
        "  rds=requests.post(f'{clowder_host}/api/datasets/createempty',headers=headers3, data=json.dumps(metadata3))\n",
        "  print(rds.json())\n",
        "  datasetID=rds.json()['id']\n",
        "  print(datasetID)\n",
        "  headers2={'X-API-Key': clowder_key, 'Content-Type': 'application/json'}\n",
        "  url=f'{clowder_host}/api/datasets/{datasetID}/metadata'\n",
        "  print(url)\n",
        "  r=requests.post(url,data=jsLD,headers=headers2)\n",
        "  print(r.json())\n",
        "  return datasetID"
      ],
      "execution_count": null,
      "outputs": []
    },
    {
      "cell_type": "markdown",
      "metadata": {
        "id": "LRLW-veVSWZv"
      },
      "source": [
        "\n",
        "\n",
        ">*Create dataset stub for the repo's landing page DOI:*\n",
        "\n",
        ">curl -X POST \"https://clowder.ncsa.illinois.edu/clowder/api/datasets/createempty\" -H \"accept: \\*\\/\\*\" -H \"X-API-Key: $clowder_key\" -H \"Content-Type: application/json\" -d \"{\\\"name\\\":\\\"http://dx.doi.org/10.1594/IEDA/300002\\\"}\"\n",
        "\n",
        ">{ \"id\": \"5f6108b15e0e04ebc01d6436\" }"
      ]
    },
    {
      "cell_type": "code",
      "metadata": {
        "id": "Sc9pJTl7xIf5"
      },
      "source": [
        "def createDS(fd):\n",
        "  \"dict of file metadata to init an clowder dataset\"\n",
        "  values = json.dumps(fd)\n",
        "  r=requests.post(f'{clowder_host}/api/datasets/createempty',headers={'X-API-Key': clowder_key,'accept': '*/*', 'Content-Type': 'application/json'}, data=values)\n",
        "  print(r.json())\n",
        "\n",
        "def createDS2(name,description):  #not needed\n",
        "  \"enter DOI and abstract to get the dataset page going\"\n",
        "  fd = {\"name\": name, \"description\": description}\n",
        "  createDS(fd)\n",
        "\n",
        "def ld2dct(fn):\n",
        "  \"get title&abstract from jsonLD into a dict\"\n",
        "  with open(fn) as f:\n",
        "    d=json.loads(f.read())\n",
        "    r={'name': d['name'], 'description': d['description']} #want url too\n",
        "    #r={'name': d['name'], 'description': d['description'], 'url': d['identifier'][0]['url']}\n",
        "    #print(r)\n",
        "    return r\n",
        "#ld2dct('ld/310068.jsonld')\n",
        "#{'name': 'Processed ship-based ADCP Sonar Data from the East Pacific Rise at 9N acquired during the Atlantis expedition AT15-32 (2008)', 'description': 'Abstract: This data set was acquired with a ship-based RDI OS-75 ADCP Sonar during Atlantis expedition AT15-32 conducted in 2008 (Chief Scientist: Dr. George Luther). These data files are of Binary format and include Current Measurement data and were processed after data collection. Data were acquired as part of the project(s): IDEA: Coupling Communication Technology with in Situ Voltammetric Analyzers for Real Time and Unattended Monitoring of Biogeochemically Relevant Chemical Species and Establishing a Long-Term Geodetic Network at the East Pacific Rise Ridge 2000 Integrated Studies Site, and funding was provided by NSF grant(s): OCE03-08398 and OCE06-47840.'}\n",
        "\n",
        "def ld2ds(fn):\n",
        "  \"get title&abstract from jsonLD file to create a dataset\"\n",
        "  createDS(ld2dct(fn))\n"
      ],
      "execution_count": null,
      "outputs": []
    },
    {
      "cell_type": "code",
      "metadata": {
        "id": "dSTomNNsxh1d",
        "outputId": "febc1e3b-22d3-4a1e-b34e-c074eac43b0f",
        "colab": {
          "base_uri": "https://localhost:8080/",
          "height": 34
        }
      },
      "source": [
        "createDS2(\"http://dx.doi.org/10.1594/IEDA/300002\", \"abstract-here\")"
      ],
      "execution_count": null,
      "outputs": [
        {
          "output_type": "stream",
          "text": [
            "{'id': '5f6a70385e0e69663bea65bd'}\n"
          ],
          "name": "stdout"
        }
      ]
    },
    {
      "cell_type": "markdown",
      "metadata": {
        "id": "nvmDK_rAoAUW"
      },
      "source": [
        "\n",
        "\n",
        "\n",
        ">*Add it's jsonLD to the dataset_id:*\n",
        "\n",
        ">curl -X POST -H \"Content-Type: application/json\" -d @300002.jsonld \"https://clowder.ncsa.illinois.edu/clowder/api/datasets/5f60ce0d5e0e04ebc01d2dae/usermetadata?key=$clowder_key\"\n",
        "\n",
        ">{\"status\":\"success\"}\n",
        "\n",
        "> *Coming here in [code](https://github.com/MBcode/ec) soon, but still will run from server w/the jsonLD cache.*\n",
        "\n",
        ">**Use**: jsonLD2dataset above, and: getLD below"
      ]
    },
    {
      "cell_type": "code",
      "metadata": {
        "id": "7AzrOkisbhS6"
      },
      "source": [
        "#add function to post the jsonLD as above\n",
        "def postLD(datasetID,fn):  \n",
        "    files = {'jsonLD':(fn,open(fn,'rb'))}\n",
        "    r=requests.post(f'{clowder_host}/api/datasets/{datasetID}/usermetadata',files=files,headers={'X-API-Key': clowder_key, 'Content-Type': 'application/json'})\n",
        "    print(r.json)\n",
        "  #soon locally: postLD('5f6a70385e0e69663bea65bd', 'ld/300002.jsonld')"
      ],
      "execution_count": null,
      "outputs": []
    },
    {
      "cell_type": "code",
      "metadata": {
        "id": "CRh5kdniFVFT"
      },
      "source": [
        "#Then to check it was uploaded, or when get search results, &want metadata, send an 'id' to this:\n",
        "def getLD(datasetID):  \n",
        "    r = requests.get(f'{clowder_host}/api/datasets/{datasetID}/metadata', headers={'X-API-Key' : clowder_key})\n",
        "    print(json.dumps(r.json(), indent=2))"
      ],
      "execution_count": null,
      "outputs": []
    },
    {
      "cell_type": "code",
      "metadata": {
        "id": "OgqCvZpMMbJE",
        "outputId": "b81c57f7-93a8-4195-a655-53814f9961d3",
        "colab": {
          "base_uri": "https://localhost:8080/",
          "height": 1000
        }
      },
      "source": [
        "getLD(\"5f60ce0d5e0e04ebc01d2dae\")"
      ],
      "execution_count": null,
      "outputs": [
        {
          "output_type": "stream",
          "text": [
            "[\n",
            "  {\n",
            "    \"id\": \"5f4eb3935e0efb9145fc3069\",\n",
            "    \"spaceId\": \"5f4eb3935e0efb9145fc3064\",\n",
            "    \"json\": {\n",
            "      \"label\": \"Abstract\",\n",
            "      \"uri\": \"http://purl.org/dc/terms/abstract\",\n",
            "      \"type\": \"string\"\n",
            "    }\n",
            "  },\n",
            "  {\n",
            "    \"id\": \"5f4eb3935e0efb9145fc306a\",\n",
            "    \"spaceId\": \"5f4eb3935e0efb9145fc3064\",\n",
            "    \"json\": {\n",
            "      \"label\": \"Alternative Title\",\n",
            "      \"uri\": \"http://purl.org/dc/terms/alternative\",\n",
            "      \"type\": \"string\"\n",
            "    }\n",
            "  },\n",
            "  {\n",
            "    \"id\": \"5f4eb3935e0efb9145fc306b\",\n",
            "    \"spaceId\": \"5f4eb3935e0efb9145fc3064\",\n",
            "    \"json\": {\n",
            "      \"label\": \"Audience\",\n",
            "      \"uri\": \"http://purl.org/dc/terms/audience\",\n",
            "      \"type\": \"string\"\n",
            "    }\n",
            "  },\n",
            "  {\n",
            "    \"id\": \"5f4eb3935e0efb9145fc306c\",\n",
            "    \"spaceId\": \"5f4eb3935e0efb9145fc3064\",\n",
            "    \"json\": {\n",
            "      \"label\": \"CSDMS Standard Name\",\n",
            "      \"uri\": \"http://csdms.colorado.edu/wiki/CSN_Searchable_List\",\n",
            "      \"type\": \"list\",\n",
            "      \"definitions_url\": \"http://ecgs.ncsa.illinois.edu/gsis/CSN\"\n",
            "    }\n",
            "  },\n",
            "  {\n",
            "    \"id\": \"5f4eb3935e0efb9145fc306d\",\n",
            "    \"spaceId\": \"5f4eb3935e0efb9145fc3064\",\n",
            "    \"json\": {\n",
            "      \"label\": \"Date and Time\",\n",
            "      \"uri\": \"http://purl.org/dc/terms/date\",\n",
            "      \"type\": \"datetime\"\n",
            "    }\n",
            "  },\n",
            "  {\n",
            "    \"id\": \"5f4eb3935e0efb9145fc306e\",\n",
            "    \"spaceId\": \"5f4eb3935e0efb9145fc3064\",\n",
            "    \"json\": {\n",
            "      \"label\": \"Funding Institution\",\n",
            "      \"uri\": \"http://sead-data.net/terms/FundingInstitution\",\n",
            "      \"type\": \"string\"\n",
            "    }\n",
            "  },\n",
            "  {\n",
            "    \"id\": \"5f4eb3935e0efb9145fc306f\",\n",
            "    \"spaceId\": \"5f4eb3935e0efb9145fc3064\",\n",
            "    \"json\": {\n",
            "      \"label\": \"Grant Number\",\n",
            "      \"uri\": \"http://sead-data.net/terms/GrantNumber\",\n",
            "      \"type\": \"string\"\n",
            "    }\n",
            "  },\n",
            "  {\n",
            "    \"id\": \"5f4eb3935e0efb9145fc3070\",\n",
            "    \"spaceId\": \"5f4eb3935e0efb9145fc3064\",\n",
            "    \"json\": {\n",
            "      \"label\": \"Keywords\",\n",
            "      \"uri\": \"http://sead-data.net/terms/Keywords\",\n",
            "      \"type\": \"string\"\n",
            "    }\n",
            "  },\n",
            "  {\n",
            "    \"id\": \"5f4eb3935e0efb9145fc3071\",\n",
            "    \"spaceId\": \"5f4eb3935e0efb9145fc3064\",\n",
            "    \"json\": {\n",
            "      \"label\": \"ODM2 Variable Name\",\n",
            "      \"uri\": \"http://vocabulary.odm2.org/variablename\",\n",
            "      \"type\": \"list\",\n",
            "      \"definitions_url\": \"http://ecgs.ncsa.illinois.edu/gsis/sas/sn/odm2\"\n",
            "    }\n",
            "  },\n",
            "  {\n",
            "    \"id\": \"5f4eb3935e0efb9145fc3072\",\n",
            "    \"spaceId\": \"5f4eb3935e0efb9145fc3064\",\n",
            "    \"json\": {\n",
            "      \"label\": \"Primary/Initial Publication\",\n",
            "      \"uri\": \"http://sead-data.net/terms/PrimaryPublication\",\n",
            "      \"type\": \"string\"\n",
            "    }\n",
            "  },\n",
            "  {\n",
            "    \"id\": \"5f4eb3935e0efb9145fc3073\",\n",
            "    \"spaceId\": \"5f4eb3935e0efb9145fc3064\",\n",
            "    \"json\": {\n",
            "      \"label\": \"Principal Investigator(s)\",\n",
            "      \"uri\": \"http://sead-data.net/terms/PrincipalInvestigator\",\n",
            "      \"type\": \"string\"\n",
            "    }\n",
            "  },\n",
            "  {\n",
            "    \"id\": \"5f4eb3935e0efb9145fc3074\",\n",
            "    \"spaceId\": \"5f4eb3935e0efb9145fc3064\",\n",
            "    \"json\": {\n",
            "      \"label\": \"References\",\n",
            "      \"uri\": \"http://purl.org/dc/terms/references\",\n",
            "      \"type\": \"string\"\n",
            "    }\n",
            "  },\n",
            "  {\n",
            "    \"id\": \"5f4eb3935e0efb9145fc3075\",\n",
            "    \"spaceId\": \"5f4eb3935e0efb9145fc3064\",\n",
            "    \"json\": {\n",
            "      \"label\": \"Related Publications\",\n",
            "      \"uri\": \"http://sead-data.net/terms/RelatedPublications\",\n",
            "      \"type\": \"string\"\n",
            "    }\n",
            "  },\n",
            "  {\n",
            "    \"id\": \"5f4eb3935e0efb9145fc3076\",\n",
            "    \"spaceId\": \"5f4eb3935e0efb9145fc3064\",\n",
            "    \"json\": {\n",
            "      \"label\": \"SAS Spatial Geocode\",\n",
            "      \"uri\": \"http://ecgs.ncsa.illinois.edu/gsis/sas/geocode\",\n",
            "      \"type\": \"listgeocode\",\n",
            "      \"definitions_url\": \"http://ecgs.ncsa.illinois.edu/gsis/sas/geocode\",\n",
            "      \"query_parameter\": \"loc\"\n",
            "    }\n",
            "  },\n",
            "  {\n",
            "    \"id\": \"5f4eb3935e0efb9145fc3077\",\n",
            "    \"spaceId\": \"5f4eb3935e0efb9145fc3064\",\n",
            "    \"json\": {\n",
            "      \"label\": \"SAS Variable Name\",\n",
            "      \"uri\": \"http://ecgs.ncsa.illinois.edu/gsis/sas/vars\",\n",
            "      \"type\": \"scientific_variable\",\n",
            "      \"definitions_url\": \"http://ecgs.ncsa.illinois.edu/gsis/sas/vars/unit/udunits2\",\n",
            "      \"query_parameter\": \"term\"\n",
            "    }\n",
            "  },\n",
            "  {\n",
            "    \"id\": \"5f4eb3935e0efb9145fc3078\",\n",
            "    \"spaceId\": \"5f4eb3935e0efb9145fc3064\",\n",
            "    \"json\": {\n",
            "      \"label\": \"Time Periods\",\n",
            "      \"uri\": \"http://purl.org/dc/terms/PeriodOfTime\",\n",
            "      \"type\": \"string\"\n",
            "    }\n",
            "  },\n",
            "  {\n",
            "    \"id\": \"5f4eb3935e0efb9145fc3079\",\n",
            "    \"spaceId\": \"5f4eb3935e0efb9145fc3064\",\n",
            "    \"json\": {\n",
            "      \"label\": \"Unit\",\n",
            "      \"uri\": \"http://ecgs.ncsa.illinois.edu/gsis/sas/unit/udunits2\",\n",
            "      \"type\": \"list\",\n",
            "      \"definitions_url\": \"http://ecgs.ncsa.illinois.edu/gsis/sas/unit/udunits2\"\n",
            "    }\n",
            "  }\n",
            "]\n"
          ],
          "name": "stdout"
        }
      ]
    },
    {
      "cell_type": "markdown",
      "metadata": {
        "id": "cmefuVwmueW6"
      },
      "source": [
        "**Previously**: You should also have access to the old/original search [notebook](https://colab.research.google.com/drive/14_bTSVMwLk-XbmIeIgAFnswv250oRGOK#scrollTo=cmxAMz308j-s) that did free-text, allowed for faceted metadata, & has a **clustered** (used for *discovery*) search results example..  It uses a query to blazegraph, just like geodex was moving towards.  Also for 2ndry use, want to do some sci-on-schema.org variableMeasured work like this EC-[NoteBook](https://github.com/clowder-framework/ec20_marini_etal/blob/master/ecgs.ipynb) submission."
      ]
    }
  ]
}
